{
 "cells": [
  {
   "cell_type": "code",
   "execution_count": 1,
   "id": "537553ac-fd81-498d-be5a-8847bc293a9d",
   "metadata": {},
   "outputs": [],
   "source": [
    "from bs4 import BeautifulSoup\n",
    "import requests\n",
    "from lxml import etree\n",
    "import pandas as pd\n",
    "import pandasql as pds\n",
    "import re\n",
    "import numpy as np\n",
    "import os\n",
    "import matplotlib\n",
    "import seaborn as sns\n",
    "import sklearn\n",
    "from sklearn.model_selection import train_test_split\n",
    "from sklearn.naive_bayes import GaussianNB\n",
    "from sklearn.neighbors import KNeighborsClassifier\n",
    "from sklearn.tree import DecisionTreeClassifier\n",
    "from sklearn.ensemble import RandomForestClassifier, AdaBoostClassifier\n",
    "from sklearn.svm import SVC\n",
    "from sklearn.neural_network import MLPClassifier\n",
    "from sklearn.linear_model import LogisticRegression\n",
    "from sklearn.linear_model import LinearRegression\n",
    "import time\n",
    "from selenium import webdriver\n",
    "from selenium.webdriver.common.keys import Keys\n",
    "path_chrome = \"D:/Programming/Python/chromedriver.exe\"\n",
    "from selenium.webdriver.common.by import By\n",
    "from selenium.webdriver.chrome.options import Options\n",
    "from selenium.common.exceptions import NoSuchElementException\n",
    "from selenium.common.exceptions import WebDriverException"
   ]
  },
  {
   "cell_type": "code",
   "execution_count": 4,
   "id": "9dd13c5e-1c71-44eb-bea1-3842c649ce07",
   "metadata": {},
   "outputs": [],
   "source": [
    "all_languages = pd.read_csv(\"D:/Programming/GitHub/Projects/data/planguages.csv\")"
   ]
  },
  {
   "cell_type": "code",
   "execution_count": 10,
   "id": "4a99851b-3c79-47af-8462-5783dc02187e",
   "metadata": {},
   "outputs": [
    {
     "data": {
      "text/html": [
       "<div>\n",
       "<style scoped>\n",
       "    .dataframe tbody tr th:only-of-type {\n",
       "        vertical-align: middle;\n",
       "    }\n",
       "\n",
       "    .dataframe tbody tr th {\n",
       "        vertical-align: top;\n",
       "    }\n",
       "\n",
       "    .dataframe thead th {\n",
       "        text-align: right;\n",
       "    }\n",
       "</style>\n",
       "<table border=\"1\" class=\"dataframe\">\n",
       "  <thead>\n",
       "    <tr style=\"text-align: right;\">\n",
       "      <th></th>\n",
       "      <th>python</th>\n",
       "    </tr>\n",
       "  </thead>\n",
       "  <tbody>\n",
       "    <tr>\n",
       "      <th>0</th>\n",
       "      <td>pandas</td>\n",
       "    </tr>\n",
       "    <tr>\n",
       "      <th>1</th>\n",
       "      <td>pandas</td>\n",
       "    </tr>\n",
       "    <tr>\n",
       "      <th>2</th>\n",
       "      <td>import pandas as pd</td>\n",
       "    </tr>\n",
       "    <tr>\n",
       "      <th>3</th>\n",
       "      <td>df = pd.DataFrame({'user': ['Bob', 'Jane', 'Al...</td>\n",
       "    </tr>\n",
       "    <tr>\n",
       "      <th>4</th>\n",
       "      <td>'income': [40000, 50000, 42...</td>\n",
       "    </tr>\n",
       "  </tbody>\n",
       "</table>\n",
       "</div>"
      ],
      "text/plain": [
       "                                              python\n",
       "0                                             pandas\n",
       "1                                             pandas\n",
       "2                                import pandas as pd\n",
       "3  df = pd.DataFrame({'user': ['Bob', 'Jane', 'Al...\n",
       "4                     'income': [40000, 50000, 42..."
      ]
     },
     "execution_count": 10,
     "metadata": {},
     "output_type": "execute_result"
    }
   ],
   "source": [
    "pydf = pd.read_csv(\"D:/Programming/GitHub/Projects/data/pythoncode.csv\")[['python']]\n",
    "pydf.head(5)"
   ]
  },
  {
   "cell_type": "code",
   "execution_count": 18,
   "id": "92b5587a-7184-421c-988e-0f322d207c26",
   "metadata": {},
   "outputs": [
    {
     "data": {
      "text/plain": [
       "['import', 'pandas', 'as', 'pd']"
      ]
     },
     "execution_count": 18,
     "metadata": {},
     "output_type": "execute_result"
    }
   ],
   "source": [
    "pydf['python'][2].split()"
   ]
  },
  {
   "cell_type": "code",
   "execution_count": 22,
   "id": "014e5f2b-c8ff-462b-bc2a-e25290a6afc5",
   "metadata": {},
   "outputs": [],
   "source": [
    "# the problem with making this a histogram is that there will be a sick amount of keys, since I would want the program to be able to predict it based off of writing patterns rather than \n",
    "# frequent words. \n",
    "# how to I solve?\n",
    "# first clean the data from numbers and things that can be used universally. \n",
    "# database from all the WORDS & language label, then count() where word = word, then see how many python labels and how many java labels this word had. \n",
    "# that will set our confidence % of each word.\n",
    "# example: select * from df where word = 'import'. 95 times with a 'python' label and 5 times with a 'java' label? we're confident that 'import' is a python word with a 95% certainty.\n",
    "# with multiple words, the odds change. \n",
    "# at some point, the algorithm will need to be as developed as to make out which word-orders will appear in which langauge. aka not only will it be enough\n",
    "# that 'import' is 95% python, 'pandas' is 95% python, 'as' is 70% python and 'pd' is 95% python, it will also have to know that 'import pandas as pd' is more probable than just \n",
    "# multiplying the individual words' chances to appear within the language. "
   ]
  },
  {
   "cell_type": "code",
   "execution_count": null,
   "id": "bfaa7a6c-9f93-4a45-af21-ab4211d67861",
   "metadata": {},
   "outputs": [],
   "source": []
  }
 ],
 "metadata": {
  "kernelspec": {
   "display_name": "Python 3 (ipykernel)",
   "language": "python",
   "name": "python3"
  },
  "language_info": {
   "codemirror_mode": {
    "name": "ipython",
    "version": 3
   },
   "file_extension": ".py",
   "mimetype": "text/x-python",
   "name": "python",
   "nbconvert_exporter": "python",
   "pygments_lexer": "ipython3",
   "version": "3.9.0"
  }
 },
 "nbformat": 4,
 "nbformat_minor": 5
}
