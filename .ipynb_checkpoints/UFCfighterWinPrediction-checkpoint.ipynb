{
 "cells": [
  {
   "cell_type": "code",
   "execution_count": 1,
   "id": "deb323fe-970e-40fe-a6e7-50c434018add",
   "metadata": {},
   "outputs": [],
   "source": [
    "# is empty, do it "
   ]
  },
  {
   "cell_type": "code",
   "execution_count": null,
   "id": "d5958c1a-1b9b-4ddc-a5db-aad60a066b09",
   "metadata": {},
   "outputs": [],
   "source": []
  }
 ],
 "metadata": {
  "kernelspec": {
   "display_name": "Python 3 (ipykernel)",
   "language": "python",
   "name": "python3"
  },
  "language_info": {
   "codemirror_mode": {
    "name": "ipython",
    "version": 3
   },
   "file_extension": ".py",
   "mimetype": "text/x-python",
   "name": "python",
   "nbconvert_exporter": "python",
   "pygments_lexer": "ipython3",
   "version": "3.9.0"
  }
 },
 "nbformat": 4,
 "nbformat_minor": 5
}
