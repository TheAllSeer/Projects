{
 "cells": [
  {
   "cell_type": "code",
   "execution_count": 5,
   "metadata": {},
   "outputs": [],
   "source": [
    "import re\n",
    "import pandas as pd\n",
    "from bs4 import BeautifulSoup\n",
    "import requests\n"
   ]
  },
  {
   "cell_type": "code",
   "execution_count": null,
   "metadata": {},
   "outputs": [],
   "source": [
    "namesdict = {}  # making an empty dictionary\n",
    "for business in businesses:  # for each company name\n",
    "    url = \"https://www.google.com/search?q={}\".format(business)  # search it on google\n",
    "    driver.get(url)  # get a response through selenium\n",
    "    if business in namesdict:  # if the company is in the dictionary already, continue\n",
    "        continue\n",
    "    time.sleep(3)  # if not, wait 3 seconds\n",
    "    try:  # assigning the business name into a dictionary as a key, and assigning a value as the element of the company sector description on google.\n",
    "        namesdict[business] = driver.find_element(By.CSS_SELECTOR, 'div.wwUB2c.PZPZlf').text\n",
    "    except:\n",
    "        pass  # added exception for times where the element did not exist, or existed in a second format, which is:\n",
    "    try:  # second format in which i saw the element being stored. \n",
    "        namesdict[business] = driver.find_element(By.CSS_SELECTOR, 'span.YhemCb').text\n",
    "    except:\n",
    "        pass  # to not raise errors and stop the process for empty elements. if it doesn't find an element, it will return an empty value into the dictionary. \n",
    "\n",
    "\n",
    "    "
   ]
  },
  {
   "cell_type": "code",
   "execution_count": null,
   "metadata": {},
   "outputs": [],
   "source": [
    "url = \"https://www.google.com/search?q={}\".format(business)  # search it on google\n",
    "request = requests.get(url)\n",
    "soup = BeautifulSoup(request.text,'html')\n",
    "if business in namesdict:\n",
    "    continue\n",
    "time.sleep(3)\n",
    "try:\n",
    "    namesdict[business] = "
   ]
  }
 ],
 "metadata": {
  "kernelspec": {
   "display_name": "Python 3.9.0 64-bit",
   "language": "python",
   "name": "python3"
  },
  "language_info": {
   "codemirror_mode": {
    "name": "ipython",
    "version": 3
   },
   "file_extension": ".py",
   "mimetype": "text/x-python",
   "name": "python",
   "nbconvert_exporter": "python",
   "pygments_lexer": "ipython3",
   "version": "3.9.0"
  },
  "orig_nbformat": 4,
  "vscode": {
   "interpreter": {
    "hash": "1a9fdfed8a93ca726ffbb3edd42a7b55f2dca40ffdcc118e0ccf1488b06475d9"
   }
  }
 },
 "nbformat": 4,
 "nbformat_minor": 2
}
