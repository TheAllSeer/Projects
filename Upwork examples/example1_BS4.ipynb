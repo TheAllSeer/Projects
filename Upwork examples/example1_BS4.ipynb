{
 "cells": [
  {
   "cell_type": "code",
   "execution_count": 1,
   "metadata": {},
   "outputs": [
    {
     "name": "stdout",
     "output_type": "stream",
     "text": [
      "The most used word in Rumble video titles is To, with 11 appearances throughout the website!\n"
     ]
    },
    {
     "data": {
      "text/html": [
       "<div>\n",
       "<style scoped>\n",
       "    .dataframe tbody tr th:only-of-type {\n",
       "        vertical-align: middle;\n",
       "    }\n",
       "\n",
       "    .dataframe tbody tr th {\n",
       "        vertical-align: top;\n",
       "    }\n",
       "\n",
       "    .dataframe thead th {\n",
       "        text-align: right;\n",
       "    }\n",
       "</style>\n",
       "<table border=\"1\" class=\"dataframe\">\n",
       "  <thead>\n",
       "    <tr style=\"text-align: right;\">\n",
       "      <th></th>\n",
       "      <th>Word</th>\n",
       "      <th>appearancesOnRumble</th>\n",
       "    </tr>\n",
       "  </thead>\n",
       "  <tbody>\n",
       "    <tr>\n",
       "      <th>0</th>\n",
       "      <td>To</td>\n",
       "      <td>11</td>\n",
       "    </tr>\n",
       "    <tr>\n",
       "      <th>1</th>\n",
       "      <td>A</td>\n",
       "      <td>8</td>\n",
       "    </tr>\n",
       "    <tr>\n",
       "      <th>2</th>\n",
       "      <td>The</td>\n",
       "      <td>7</td>\n",
       "    </tr>\n",
       "    <tr>\n",
       "      <th>3</th>\n",
       "      <td>Of</td>\n",
       "      <td>6</td>\n",
       "    </tr>\n",
       "    <tr>\n",
       "      <th>4</th>\n",
       "      <td>How</td>\n",
       "      <td>6</td>\n",
       "    </tr>\n",
       "    <tr>\n",
       "      <th>...</th>\n",
       "      <td>...</td>\n",
       "      <td>...</td>\n",
       "    </tr>\n",
       "    <tr>\n",
       "      <th>374</th>\n",
       "      <td>Are</td>\n",
       "      <td>1</td>\n",
       "    </tr>\n",
       "    <tr>\n",
       "      <th>375</th>\n",
       "      <td>Losses</td>\n",
       "      <td>1</td>\n",
       "    </tr>\n",
       "    <tr>\n",
       "      <th>376</th>\n",
       "      <td>Company</td>\n",
       "      <td>1</td>\n",
       "    </tr>\n",
       "    <tr>\n",
       "      <th>377</th>\n",
       "      <td>176</td>\n",
       "      <td>1</td>\n",
       "    </tr>\n",
       "    <tr>\n",
       "      <th>378</th>\n",
       "      <td>Away</td>\n",
       "      <td>1</td>\n",
       "    </tr>\n",
       "  </tbody>\n",
       "</table>\n",
       "<p>379 rows × 2 columns</p>\n",
       "</div>"
      ],
      "text/plain": [
       "        Word  appearancesOnRumble\n",
       "0         To                   11\n",
       "1          A                    8\n",
       "2        The                    7\n",
       "3         Of                    6\n",
       "4        How                    6\n",
       "..       ...                  ...\n",
       "374      Are                    1\n",
       "375   Losses                    1\n",
       "376  Company                    1\n",
       "377      176                    1\n",
       "378     Away                    1\n",
       "\n",
       "[379 rows x 2 columns]"
      ]
     },
     "execution_count": 1,
     "metadata": {},
     "output_type": "execute_result"
    }
   ],
   "source": [
    "from bs4 import BeautifulSoup\n",
    "import requests\n",
    "import re\n",
    "\n",
    "url = \"https://rumble.com/\"  \n",
    "request = requests.get(url)  \n",
    "soup = BeautifulSoup(request.text, 'html')\n",
    "\n",
    "titles = []  # empty list, will put video titles in it.\n",
    "for i in soup('a', {'class':'mediaList-link'}):  # mediaList-link = the class of videos. \n",
    "    videoTitle = i.h3['title']  # h3 is the title, the attribute is the title. \n",
    "    titles.append(videoTitle)  # adding the video title to the list of titles.\n",
    "\n",
    "histogram = {}\n",
    "\n",
    "wordslist = []\n",
    "\n",
    "for title in titles: \n",
    "    words = title.split()  # words = list of words in current title\n",
    "    for word in words:\n",
    "        [wordslist.append(x.capitalize()) for x in re.findall('\\w*', word) if x != '']   # adding that word, capitalized, into a list of all words used in titles. \n",
    "\n",
    "\n",
    "for word in wordslist:  \n",
    "    histogram[word] = histogram.get(word, 0) + 1  # if a word has already appeared, add +1 to the count. if it hasn't, add it with a count of 1. \n",
    "\n",
    "\n",
    "key = max(histogram, key = histogram.get)  # using the max() function to get the key (word) with the highest count\n",
    "print(\"The most used word in Rumble video titles is {}, with {} appearances throughout the website!\".format(key, histogram[key]))\n",
    "\n",
    "\n",
    "import pandas as pd\n",
    "\n",
    "\n",
    "df_histogram = pd.DataFrame(histogram.values(), index = histogram.keys(), columns = {'appearancesOnRumble'})\n",
    "dfH = df_histogram.sort_values(by = 'appearancesOnRumble', ascending = False).copy()\n",
    "df = dfH.reset_index().rename(columns = {dfH.reset_index().columns[0]:'Word'})\n",
    "df\n",
    "\n"
   ]
  },
  {
   "cell_type": "code",
   "execution_count": null,
   "metadata": {},
   "outputs": [],
   "source": []
  },
  {
   "cell_type": "code",
   "execution_count": null,
   "metadata": {},
   "outputs": [],
   "source": []
  },
  {
   "cell_type": "code",
   "execution_count": null,
   "metadata": {},
   "outputs": [],
   "source": []
  },
  {
   "cell_type": "code",
   "execution_count": null,
   "metadata": {},
   "outputs": [],
   "source": []
  },
  {
   "cell_type": "code",
   "execution_count": null,
   "metadata": {},
   "outputs": [],
   "source": []
  }
 ],
 "metadata": {
  "kernelspec": {
   "display_name": "Python 3.9.0 64-bit",
   "language": "python",
   "name": "python3"
  },
  "language_info": {
   "codemirror_mode": {
    "name": "ipython",
    "version": 3
   },
   "file_extension": ".py",
   "mimetype": "text/x-python",
   "name": "python",
   "nbconvert_exporter": "python",
   "pygments_lexer": "ipython3",
   "version": "3.9.0"
  },
  "orig_nbformat": 4,
  "vscode": {
   "interpreter": {
    "hash": "1a9fdfed8a93ca726ffbb3edd42a7b55f2dca40ffdcc118e0ccf1488b06475d9"
   }
  }
 },
 "nbformat": 4,
 "nbformat_minor": 2
}
