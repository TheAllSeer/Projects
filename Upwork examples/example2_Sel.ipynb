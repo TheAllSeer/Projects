{
 "cells": [
  {
   "cell_type": "code",
   "execution_count": 1,
   "id": "19d4ecbe-b77b-4739-a28f-19989eadeafd",
   "metadata": {},
   "outputs": [],
   "source": [
    "from bs4 import BeautifulSoup\n",
    "import requests\n",
    "from lxml import etree\n",
    "import pandas as pd\n",
    "import pandasql as pds\n",
    "import re\n",
    "import numpy as np\n",
    "import os\n",
    "import matplotlib\n",
    "import seaborn as sns\n",
    "import sklearn\n",
    "from sklearn.model_selection import train_test_split\n",
    "from sklearn.naive_bayes import GaussianNB\n",
    "from sklearn.neighbors import KNeighborsClassifier\n",
    "from sklearn.tree import DecisionTreeClassifier\n",
    "from sklearn.ensemble import RandomForestClassifier, AdaBoostClassifier\n",
    "from sklearn.svm import SVC\n",
    "from sklearn.neural_network import MLPClassifier\n",
    "from sklearn.linear_model import LogisticRegression\n",
    "from sklearn.linear_model import LinearRegression\n",
    "import time\n",
    "from selenium import webdriver\n",
    "from selenium.webdriver.common.keys import Keys\n",
    "path_chrome = \"D:/Programming/Python/chromedriver.exe\"\n",
    "from selenium.webdriver.common.by import By\n",
    "from selenium.webdriver.chrome.options import Options\n",
    "from selenium.common.exceptions import NoSuchElementException\n",
    "from selenium.common.exceptions import WebDriverException"
   ]
  },
  {
   "cell_type": "code",
   "execution_count": 3,
   "id": "ef59de03-fd69-4b5a-8bea-2eefbead7444",
   "metadata": {},
   "outputs": [],
   "source": [
    "# pd.read_csv(\"data/pLanguages.csv\")"
   ]
  },
  {
   "cell_type": "code",
   "execution_count": null,
   "id": "7c642730-a61a-48b7-91e2-4d1740fef593",
   "metadata": {},
   "outputs": [],
   "source": [
    "import pandas as pd\n",
    "import time\n",
    "from selenium import webdriver\n",
    "from selenium.webdriver.common.keys import Keys\n",
    "from selenium.webdriver.common.by import By\n",
    "from selenium.webdriver.chrome.options import Options\n",
    "from selenium.common.exceptions import NoSuchElementException\n",
    "from selenium.common.exceptions import WebDriverException"
   ]
  },
  {
   "cell_type": "code",
   "execution_count": 4,
   "id": "2b679a9f-b78a-4be8-b972-998bd4480a4e",
   "metadata": {},
   "outputs": [],
   "source": [
    "# retrieves a dictionary of {P# Q# : code lines}. the dictionary: questions_and_codes.\n",
    "\n",
    "\n",
    "\n",
    "\n",
    "lang = 'python'  # the label of the training data\n",
    "path_chrome = \"D:/Programming/Python/chromedriver.exe\"\n",
    "pages_to_search = 25"
   ]
  },
  {
   "cell_type": "code",
   "execution_count": 18,
   "id": "edf34f75-fe37-4035-9a6c-24ea533f0b0d",
   "metadata": {},
   "outputs": [],
   "source": [
    "def QandC_freq(language, driver_path, pages, startpage = None):\n",
    "    \n",
    "    import pandas as pd\n",
    "    import time\n",
    "    from selenium import webdriver\n",
    "    from selenium.webdriver.common.keys import Keys\n",
    "    from selenium.webdriver.common.by import By\n",
    "    from selenium.webdriver.chrome.options import Options\n",
    "    from selenium.common.exceptions import NoSuchElementException\n",
    "    from selenium.common.exceptions import WebDriverException\n",
    "    \n",
    "    \n",
    "    \n",
    "    \n",
    "    if startpage == None:\n",
    "        startpage = 1\n",
    "    url = \"https://stackoverflow.com/questions/tagged/{}?tab=frequent&page={}&pagesize=15\".format(language, startpage)\n",
    "    url2 = \"https://stackoverflow.com/questions/tagged/{}?tab=votes&page={}&pagesize=15\".format(language, startpage)\n",
    "    driver = webdriver.Chrome(path_chrome)\n",
    "    questions_and_codes = {}  # empty dictionary. formatted as such: {\"question\":\"list of a lot of code lines\"} this is the training data. \n",
    "\n",
    "    driver.get(url)  # initialize driver onto the url. in this case, page 1 of the search pages.\n",
    "\n",
    "    for page in range(pages_to_search):\n",
    "        Qindex = len(driver.find_elements(By.CSS_SELECTOR, 'h3.s-post-summary--content-title'))  # amount of questions in the page. \n",
    "        time.sleep(0.5)\n",
    "        for i in range(Qindex):\n",
    "            time.sleep(0.5)\n",
    "\n",
    "            Qs = driver.find_elements(By.CSS_SELECTOR, 'h3.s-post-summary--content-title')  # list of questions in the page.\n",
    "            thelink = Qs[i].find_element(By.CSS_SELECTOR, 'a.s-link').get_attribute(\"href\")  # their hrefs\n",
    "            driver.execute_script(\"window.open('');\")  # opens a new tab\n",
    "            driver.switch_to.window(driver.window_handles[1])  # switches to new tab\n",
    "            driver.get(thelink)  # loading the question's href (link) on it\n",
    "            codes = driver.find_elements(By.CSS_SELECTOR, 'code')  # collecting code lines.\n",
    "            if \"p{}-Q{}\".format(page, i) in questions_and_codes.keys():\n",
    "                continue\n",
    "            try:\n",
    "                questions_and_codes[\"p{}-Q{}\".format(page, i)] = [code.text for code in codes]\n",
    "            except:\n",
    "                questions_and_codes[\"p{}-Q{}\".format(page, i)] = \"\"\n",
    "            driver.close()\n",
    "            driver.switch_to.window(driver.window_handles[0])  # switch to first tab. otherwise Qs still looks for the already-closed tabs and it errors\n",
    "        time.sleep(0.5)\n",
    "        driver.find_element(By.LINK_TEXT, 'Next').click()\n",
    "    questions_and_codes  # the dictionary of all questions and their code lines.    \n",
    "    codelines = []\n",
    "    for key in questions_and_codes.keys():\n",
    "        codelist = questions_and_codes[key]\n",
    "        for line in codelist:\n",
    "            for inst in line.split(\"\\n\"):\n",
    "                codelines.append(inst)\n",
    "    return pd.DataFrame(pd.Series(codelines), columns = {language})\n",
    "    "
   ]
  },
  {
   "cell_type": "code",
   "execution_count": 11,
   "id": "405482f5-1822-4dc0-9ea1-eba2937a0887",
   "metadata": {},
   "outputs": [
    {
     "name": "stderr",
     "output_type": "stream",
     "text": [
      "C:\\Users\\Itamar\\AppData\\Local\\Temp\\ipykernel_4544\\3332641898.py:19: DeprecationWarning: executable_path has been deprecated, please pass in a Service object\n",
      "  driver = webdriver.Chrome(path_chrome)\n"
     ]
    }
   ],
   "source": [
    "path_chrome\n",
    "javaCode = QandC_freq('java', path_chrome, 25)"
   ]
  },
  {
   "cell_type": "code",
   "execution_count": 20,
   "id": "3b2b3bff-ee91-4c4c-bc97-2138cca2e81d",
   "metadata": {},
   "outputs": [
    {
     "name": "stderr",
     "output_type": "stream",
     "text": [
      "C:\\Users\\Itamar\\AppData\\Local\\Temp\\ipykernel_4544\\3732126987.py:19: DeprecationWarning: executable_path has been deprecated, please pass in a Service object\n",
      "  driver = webdriver.Chrome(path_chrome)\n"
     ]
    }
   ],
   "source": [
    "CsharpCode = QandC_freq('C#', path_chrome, 25)"
   ]
  },
  {
   "cell_type": "code",
   "execution_count": 22,
   "id": "56ef08bb-67f1-4a73-ac5c-2c698408f2c0",
   "metadata": {},
   "outputs": [
    {
     "data": {
      "text/html": [
       "<div>\n",
       "<style scoped>\n",
       "    .dataframe tbody tr th:only-of-type {\n",
       "        vertical-align: middle;\n",
       "    }\n",
       "\n",
       "    .dataframe tbody tr th {\n",
       "        vertical-align: top;\n",
       "    }\n",
       "\n",
       "    .dataframe thead th {\n",
       "        text-align: right;\n",
       "    }\n",
       "</style>\n",
       "<table border=\"1\" class=\"dataframe\">\n",
       "  <thead>\n",
       "    <tr style=\"text-align: right;\">\n",
       "      <th></th>\n",
       "      <th>C</th>\n",
       "    </tr>\n",
       "  </thead>\n",
       "  <tbody>\n",
       "    <tr>\n",
       "      <th>0</th>\n",
       "      <td>//setup</td>\n",
       "    </tr>\n",
       "    <tr>\n",
       "      <th>1</th>\n",
       "      <td>RCC-&gt;AHBENR |= 0x20000; //bit 17</td>\n",
       "    </tr>\n",
       "    <tr>\n",
       "      <th>2</th>\n",
       "      <td>GPIOA-&gt;MODER |= 0x100000; // MODER10 (PA10)</td>\n",
       "    </tr>\n",
       "    <tr>\n",
       "      <th>3</th>\n",
       "      <td>GPIOA-&gt;OTYPER |= (1&lt;&lt;10); // bit 10</td>\n",
       "    </tr>\n",
       "    <tr>\n",
       "      <th>4</th>\n",
       "      <td>// main</td>\n",
       "    </tr>\n",
       "    <tr>\n",
       "      <th>...</th>\n",
       "      <td>...</td>\n",
       "    </tr>\n",
       "    <tr>\n",
       "      <th>24909</th>\n",
       "      <td>2</td>\n",
       "    </tr>\n",
       "    <tr>\n",
       "      <th>24910</th>\n",
       "      <td>0</td>\n",
       "    </tr>\n",
       "    <tr>\n",
       "      <th>24911</th>\n",
       "      <td>1</td>\n",
       "    </tr>\n",
       "    <tr>\n",
       "      <th>24912</th>\n",
       "      <td>0</td>\n",
       "    </tr>\n",
       "    <tr>\n",
       "      <th>24913</th>\n",
       "      <td>int arr[10]{};</td>\n",
       "    </tr>\n",
       "  </tbody>\n",
       "</table>\n",
       "<p>24914 rows × 1 columns</p>\n",
       "</div>"
      ],
      "text/plain": [
       "                                                     C\n",
       "0                                              //setup\n",
       "1                     RCC->AHBENR |= 0x20000; //bit 17\n",
       "2          GPIOA->MODER |= 0x100000; // MODER10 (PA10)\n",
       "3                  GPIOA->OTYPER |= (1<<10); // bit 10\n",
       "4                                              // main\n",
       "...                                                ...\n",
       "24909                                                2\n",
       "24910                                               0 \n",
       "24911                                                1\n",
       "24912                                                0\n",
       "24913                                   int arr[10]{};\n",
       "\n",
       "[24914 rows x 1 columns]"
      ]
     },
     "execution_count": 22,
     "metadata": {},
     "output_type": "execute_result"
    }
   ],
   "source": [
    "CCode = CsharpCode.rename(columns = {'C#':'C'})\n",
    "CCode"
   ]
  },
  {
   "cell_type": "code",
   "execution_count": 19,
   "id": "98690101-a557-4be2-bc0d-96da8f37c72b",
   "metadata": {},
   "outputs": [],
   "source": [
    "# javaCode.to_csv(\"D:/Programming/GitHub/projects/data/javaCode.csv\")"
   ]
  },
  {
   "cell_type": "code",
   "execution_count": 24,
   "id": "1f229376-c461-45dc-8e0d-a8a42ba81bba",
   "metadata": {},
   "outputs": [],
   "source": [
    "CCode.to_csv(\"D:/Programming/GitHub/projects/data/CCode.csv\")"
   ]
  },
  {
   "cell_type": "code",
   "execution_count": null,
   "id": "48549d77-7484-4f84-8884-450f08f234a0",
   "metadata": {},
   "outputs": [],
   "source": []
  }
 ],
 "metadata": {
  "kernelspec": {
   "display_name": "Python 3.9.0 64-bit",
   "language": "python",
   "name": "python3"
  },
  "language_info": {
   "codemirror_mode": {
    "name": "ipython",
    "version": 3
   },
   "file_extension": ".py",
   "mimetype": "text/x-python",
   "name": "python",
   "nbconvert_exporter": "python",
   "pygments_lexer": "ipython3",
   "version": "3.9.0"
  },
  "vscode": {
   "interpreter": {
    "hash": "1a9fdfed8a93ca726ffbb3edd42a7b55f2dca40ffdcc118e0ccf1488b06475d9"
   }
  }
 },
 "nbformat": 4,
 "nbformat_minor": 5
}
