{
 "cells": [
  {
   "cell_type": "code",
   "execution_count": 1,
   "id": "9e0a2875-1df6-454d-8115-51ba7e62294f",
   "metadata": {},
   "outputs": [],
   "source": [
    "import time\n",
    "import pandas as pd\n",
    "\n",
    "from selenium import webdriver\n",
    "from selenium.webdriver.common.keys import Keys\n",
    "path_s = \"C:/Program Files (x86)/chromedriver.exe\"\n",
    "from selenium.webdriver.common.by import By\n",
    "from selenium.webdriver.chrome.options import Options\n",
    "from selenium.common.exceptions import NoSuchElementException\n",
    "from selenium.common.exceptions import WebDriverException\n",
    "# Web scraping project"
   ]
  },
  {
   "cell_type": "markdown",
   "id": "c1a67a82-6751-4a16-8536-db58c9e2e8a0",
   "metadata": {},
   "source": [
    "the objective of this snippet is to build an automatic process that take a list of businesses (list of business names from a database), and for each one of them:\n",
    "-search them on google\n",
    "-retrieve the company sector element from the panel on the right of the screen\n",
    "-store it in a dictionary"
   ]
  },
  {
   "cell_type": "code",
   "execution_count": null,
   "id": "5fb7be34-9ac1-4db2-899b-4c64ed9c8f30",
   "metadata": {},
   "outputs": [],
   "source": [
    "driver = webdriver.Chrome(path_s)  # opening the chrome driver\n",
    "# driver.get(url)\n",
    "# driver.find_element(By.CSS_SELECTOR, 'div.wwUB2c.PZPZlf').text\n",
    "\n",
    "\n",
    "\n",
    "namesdict = {}  # making an empty dictionary\n",
    "for business in businesses:  # for each company name\n",
    "    url = \"https://www.google.com/search?q={}\".format(business)  # search it on google\n",
    "    driver.get(url)  # get a response through selenium\n",
    "    if business in namesdict:  # if the company is in the dictionary already, continue\n",
    "        continue\n",
    "    time.sleep(3)  # if not, wait 3 seconds\n",
    "    try:  # assigning the business name into a dictionary as a key, and assigning a value as the element of the company sector description on google.\n",
    "        namesdict[business] = driver.find_element(By.CSS_SELECTOR, 'div.wwUB2c.PZPZlf').text\n",
    "    except:\n",
    "        pass  # added exception for times where the element did not exist, or existed in a second format, which is:\n",
    "    try:  # second format in which i saw the element being stored. \n",
    "        namesdict[business] = driver.find_element(By.CSS_SELECTOR, 'span.YhemCb').text\n",
    "    except:\n",
    "        pass  # to not raise errors and stop the process for empty elements. if it doesn't find an element, it will return an empty value into the dictionary. \n",
    "    \n",
    "keep = {}\n",
    "for key in namesdict:\n",
    "    if namesdict[key] != 'חברה' and namesdict[key] != '':\n",
    "        keep[key] = namesdict[key]\n",
    "        "
   ]
  }
 ],
 "metadata": {
  "kernelspec": {
   "display_name": "Python 3 (ipykernel)",
   "language": "python",
   "name": "python3"
  },
  "language_info": {
   "codemirror_mode": {
    "name": "ipython",
    "version": 3
   },
   "file_extension": ".py",
   "mimetype": "text/x-python",
   "name": "python",
   "nbconvert_exporter": "python",
   "pygments_lexer": "ipython3",
   "version": "3.9.0"
  }
 },
 "nbformat": 4,
 "nbformat_minor": 5
}
