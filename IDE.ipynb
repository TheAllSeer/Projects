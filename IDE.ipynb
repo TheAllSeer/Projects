{
 "cells": [
  {
   "cell_type": "code",
   "execution_count": 1,
   "id": "77eb6402-e95b-4db5-bbd9-2d41c12aa18a",
   "metadata": {},
   "outputs": [],
   "source": [
    "# jupyter-lab --notebook-dir=D:/\n"
   ]
  },
  {
   "cell_type": "code",
   "execution_count": 72,
   "id": "b0270084-6795-4c63-94f6-2449eb4da120",
   "metadata": {},
   "outputs": [
    {
     "name": "stdin",
     "output_type": "stream",
     "text": [
      "your code here>> stop\n"
     ]
    }
   ],
   "source": [
    "while True:\n",
    "    a = input(\"your code here>>\")\n",
    "    if a == \"stop\":\n",
    "        break\n",
    "    exec(a)\n"
   ]
  },
  {
   "cell_type": "code",
   "execution_count": 73,
   "id": "dcb50c56-2d7e-41f8-b15d-4a82303ea796",
   "metadata": {},
   "outputs": [],
   "source": [
    "import subprocess\n",
    "from tkinter import *\n",
    "from tkinter.filedialog import asksaveasfilename, askopenfilename"
   ]
  },
  {
   "cell_type": "code",
   "execution_count": 74,
   "id": "11f3ded1-97d7-4f63-82bb-c86bc669e8cd",
   "metadata": {},
   "outputs": [],
   "source": [
    "compiler = Tk()"
   ]
  },
  {
   "cell_type": "code",
   "execution_count": 78,
   "id": "02a7fa56-f398-4860-a0fc-175426a36e5d",
   "metadata": {},
   "outputs": [],
   "source": [
    "from bs4 import BeautifulSoup\n",
    "import requests\n",
    "from lxml import etree\n",
    "import pandas as pd\n",
    "import pandasql as pds\n",
    "import re\n",
    "import numpy as np\n",
    "import os\n",
    "import matplotlib\n",
    "import seaborn as sns\n",
    "import sklearn\n",
    "from sklearn.model_selection import train_test_split\n",
    "from sklearn.naive_bayes import GaussianNB\n",
    "from sklearn.neighbors import KNeighborsClassifier\n",
    "from sklearn.tree import DecisionTreeClassifier\n",
    "from sklearn.ensemble import RandomForestClassifier, AdaBoostClassifier\n",
    "from sklearn.svm import SVC\n",
    "from sklearn.neural_network import MLPClassifier\n",
    "from sklearn.linear_model import LogisticRegression\n",
    "from sklearn.linear_model import LinearRegression\n",
    "import time\n",
    "from selenium import webdriver\n",
    "from selenium.webdriver.common.keys import Keys\n",
    "path_chrome = \"D:/Programming/Python/chromedriver.exe\"\n",
    "from selenium.webdriver.common.by import By\n",
    "from selenium.webdriver.chrome.options import Options\n",
    "from selenium.common.exceptions import NoSuchElementException\n",
    "from selenium.common.exceptions import WebDriverException"
   ]
  },
  {
   "cell_type": "code",
   "execution_count": 79,
   "id": "80a0f904-8abd-42ae-9e75-7fd0db3a5d9f",
   "metadata": {},
   "outputs": [
    {
     "data": {
      "text/plain": [
       "[]"
      ]
     },
     "execution_count": 79,
     "metadata": {},
     "output_type": "execute_result"
    }
   ],
   "source": [
    "url = \"https://stackoverflow.com/questions/tagged/python\"\n",
    "request = requests.get(url)\n",
    "soup = BeautifulSoup(request.text, \"html\")\n",
    "#google searchbar xpath = /html/body/div[3]/div[3]/form/div[1]/div[1]/div[1]/div/div[2]/input\n",
    "\n",
    "\n",
    "soup.find_all('code')  # list of <code> tags. this will be used to fill the database with lines of code from the queried language.\n",
    "dom = etree.HTML(str(soup))  # lxml function that lets you read xpath with bs4\n",
    "questions = dom.xpath('//*[@id=\"questions\"]')  # getting the xpath element from the lxml function.\n",
    "dom.xpath('//*[@id=\"question-summary-419163\"]')"
   ]
  },
  {
   "cell_type": "code",
   "execution_count": 83,
   "id": "b9249f21-da6d-44bc-96a9-9a2040d31f90",
   "metadata": {},
   "outputs": [
    {
     "name": "stderr",
     "output_type": "stream",
     "text": [
      "C:\\Users\\Itamar\\AppData\\Local\\Temp\\ipykernel_10876\\1430539215.py:1: DeprecationWarning: executable_path has been deprecated, please pass in a Service object\n",
      "  driver = webdriver.Chrome(path_chrome)\n"
     ]
    }
   ],
   "source": [
    "url = \"https://stackoverflow.com/questions/tagged/python\"\n",
    "driver = webdriver.Chrome(path_chrome)\n",
    "driver.get(url)"
   ]
  },
  {
   "cell_type": "code",
   "execution_count": 107,
   "id": "4a44bba8-5cfb-4abd-833f-28d38d6ad60f",
   "metadata": {},
   "outputs": [],
   "source": [
    "questions = driver.find_elements(By.CLASS_NAME, 's-link')\n",
    "for q in questions:\n",
    "    print(q.text)"
   ]
  },
  {
   "cell_type": "code",
   "execution_count": 113,
   "id": "67dcc74d-8d41-4ef3-940c-8b31d2ec9951",
   "metadata": {},
   "outputs": [
    {
     "data": {
      "text/plain": [
       "str"
      ]
     },
     "execution_count": 113,
     "metadata": {},
     "output_type": "execute_result"
    }
   ],
   "source": [
    "type(questions[0].text)"
   ]
  },
  {
   "cell_type": "code",
   "execution_count": 98,
   "id": "d8ecc805-c5db-4776-80c7-1da4fdeb920b",
   "metadata": {},
   "outputs": [],
   "source": [
    "q1 = questions[0]\n",
    "q1.click()\n",
    "q = driver.find_element(By.XPATH, '//*[@id=\"question-summary-73586058\"]/div[2]/h3/a')\n",
    "q.click()"
   ]
  },
  {
   "cell_type": "code",
   "execution_count": 99,
   "id": "a68c67d6-d6cf-4610-8e1f-ec7072ff2507",
   "metadata": {},
   "outputs": [
    {
     "name": "stdout",
     "output_type": "stream",
     "text": [
      "cells\n",
      "cells\n",
      "while True:\n",
      "max_t\n",
      "status\n",
      "'d'\n",
      "status == 'l'\n",
      "''' after each birth add copy of parent to cells so it stays in loop'''\n",
      "\n",
      "import numpy as np \n",
      "from scipy.stats import bernoulli\n",
      "\n",
      "def sim_pop(birth, death, init, max_t, max_j):\n",
      "\n",
      "  p = birth/(birth + death)  \n",
      "\n",
      "  time = [0]\n",
      "  first = {'gen':1, 'parent':None, 'id':'1', 'status':'l', 'path':'1', 'time_born':0, 'time_alive':0, 'time_path':[0]}\n",
      "  cells = [first]\n",
      "  j = init\n",
      "  pop = [j]\n",
      "\n",
      "  \n",
      "  flag = True\n",
      "  while flag:\n",
      "    for c in cells:\n",
      "      \n",
      "      if c['time_born'] > max_t:\n",
      "        flag = False\n",
      "        break  \n",
      "\n",
      "      else:\n",
      "        if c['status'] == 'l':\n",
      "          t = np.random.exponential(1/((birth+death))) \n",
      "          time.append(t)\n",
      "\n",
      "          pp = bernoulli.rvs(p)\n",
      "          if pp == 1:\n",
      "              j = j+1\n",
      "              pop.append(j)\n",
      "              n = [i for i in cells if i['parent'] == c['id']]      ## number of offpsring of c, siblings of new\n",
      "              ii = str(len(n) + 1)      \n",
      "              new = {'gen':c['gen']+1, 'parent':c['id'], 'id':c['id'] + '->' + ii, 'status':'l', 'path':c['path']+ '->' + ii, 'time_born':c['time_born']+t,'time_alive':0, 'time_path':c['time_path']+[c['time_born']+t]}\n",
      "              cells.append(new)\n",
      "              ## add copy of original so it doesn't get removed from the for loop\n",
      "              copy = c.copy()\n",
      "              copy['time_alive'] = c['time_alive']+t\n",
      "\n",
      "              c['status'] = 'd'\n",
      "              cells.append(copy)\n",
      "              \n",
      "          else:\n",
      "            j = j-1\n",
      "            pop.append(j)\n",
      "            c['status'] = 'd'   ## change status to dead\n",
      "            c['time_path'] = c['time_path']+[c['time_born']+t]    ## add time of death to time path\n",
      "            \n",
      "          break\n",
      "        break\n",
      "\n",
      "           \n",
      "  times = [i for i in np.cumsum(time)]\n",
      "  alive = [i for i in cells if i['status'] == 'l']\n",
      "  dead = [i for i in cells if i['status'] == 'd']\n",
      "\n",
      "  return times, cells, alive, dead, pop\n",
      "\n",
      "birth = 0.009\n",
      "death = 0.003\n",
      "init = 1\n",
      "\n",
      "max_t = 1000\n",
      "max_j = 50000000\n",
      "\n",
      "times, cells, alive, dead, pop = sim_pop(birth, death, init, max_t, max_j)\n",
      "\n",
      "print(f'end population = {pop[-1]}')\n",
      "print(f'cells alive = {len(alive)}')\n",
      "print(f'cells dead = {len(dead)}')  ## remove dupliactes \n",
      "for c in cells:\n",
      "for c in cells:\n"
     ]
    }
   ],
   "source": [
    "codes = driver.find_elements(By.CSS_SELECTOR, 'code')\n",
    "for code in codes:\n",
    "    print(code.text)"
   ]
  },
  {
   "cell_type": "code",
   "execution_count": 117,
   "id": "7636cd65-5fd5-4744-adaa-f4b7374143f8",
   "metadata": {},
   "outputs": [
    {
     "name": "stderr",
     "output_type": "stream",
     "text": [
      "C:\\Users\\Itamar\\AppData\\Local\\Temp\\ipykernel_10876\\1683348628.py:2: DeprecationWarning: executable_path has been deprecated, please pass in a Service object\n",
      "  driver = webdriver.Chrome(path_chrome)\n"
     ]
    }
   ],
   "source": [
    "url = \"https://stackoverflow.com/questions/tagged/python\"\n",
    "driver = webdriver.Chrome(path_chrome)\n",
    "driver.get(url)\n",
    "questions = []  # want to go through all the pages to get the questions. then i want to click them one by one in the next kernel and get codes. \n",
    "# selector for next button: #mainbar > div.s-pagination.site1.themed.pager.float-left > a:nth-child(9)\n"
   ]
  },
  {
   "cell_type": "code",
   "execution_count": 116,
   "id": "762255e1-d1b3-416e-bf38-20da84500fbd",
   "metadata": {},
   "outputs": [],
   "source": [
    "qs = driver.find_elements(By.CSS_SELECTOR, 'a.s-link')"
   ]
  },
  {
   "cell_type": "code",
   "execution_count": 116,
   "id": "821aae02-9a4f-4e0c-a3c9-73575f6f114f",
   "metadata": {},
   "outputs": [
    {
     "ename": "WebDriverException",
     "evalue": "Message: chrome not reachable\n  (Session info: chrome=104.0.5112.102)\nStacktrace:\nBacktrace:\n\tOrdinal0 [0x010278B3+2193587]\n\tOrdinal0 [0x00FC0681+1771137]\n\tOrdinal0 [0x00ED4070+802928]\n\tOrdinal0 [0x00EC9AB2+760498]\n\tOrdinal0 [0x00EBCEAF+708271]\n\tOrdinal0 [0x00EC1142+725314]\n\tOrdinal0 [0x00EC55C9+742857]\n\tOrdinal0 [0x00ED5500+808192]\n\tOrdinal0 [0x00F2D2C2+1168066]\n\tOrdinal0 [0x00F1D5C6+1103302]\n\tOrdinal0 [0x00EF77E0+948192]\n\tOrdinal0 [0x00EF86E6+952038]\n\tGetHandleVerifier [0x012D0CB2+2738370]\n\tGetHandleVerifier [0x012C21B8+2678216]\n\tGetHandleVerifier [0x010B17AA+512954]\n\tGetHandleVerifier [0x010B0856+509030]\n\tOrdinal0 [0x00FC743B+1799227]\n\tOrdinal0 [0x00FCBB68+1817448]\n\tOrdinal0 [0x00FCBC55+1817685]\n\tOrdinal0 [0x00FD5230+1856048]\n\tBaseThreadInitThunk [0x7577FA29+25]\n\tRtlGetAppContainerNamedObjectPath [0x76EF7A9E+286]\n\tRtlGetAppContainerNamedObjectPath [0x76EF7A6E+238]\n",
     "output_type": "error",
     "traceback": [
      "\u001b[1;31m---------------------------------------------------------------------------\u001b[0m",
      "\u001b[1;31mWebDriverException\u001b[0m                        Traceback (most recent call last)",
      "Input \u001b[1;32mIn [116]\u001b[0m, in \u001b[0;36m<cell line: 1>\u001b[1;34m()\u001b[0m\n\u001b[1;32m----> 1\u001b[0m qs \u001b[38;5;241m=\u001b[39m \u001b[43mdriver\u001b[49m\u001b[38;5;241;43m.\u001b[39;49m\u001b[43mfind_elements\u001b[49m\u001b[43m(\u001b[49m\u001b[43mBy\u001b[49m\u001b[38;5;241;43m.\u001b[39;49m\u001b[43mCSS_SELECTOR\u001b[49m\u001b[43m,\u001b[49m\u001b[43m \u001b[49m\u001b[38;5;124;43m'\u001b[39;49m\u001b[38;5;124;43ma.s-link\u001b[39;49m\u001b[38;5;124;43m'\u001b[39;49m\u001b[43m)\u001b[49m\n\u001b[0;32m      2\u001b[0m questions_codes \u001b[38;5;241m=\u001b[39m {}\n\u001b[0;32m      5\u001b[0m \u001b[38;5;28;01mfor\u001b[39;00m q \u001b[38;5;129;01min\u001b[39;00m qs:\n",
      "File \u001b[1;32mc:\\users\\itamar\\appdata\\local\\programs\\python\\python39\\lib\\site-packages\\selenium\\webdriver\\remote\\webdriver.py:1284\u001b[0m, in \u001b[0;36mWebDriver.find_elements\u001b[1;34m(self, by, value)\u001b[0m\n\u001b[0;32m   1280\u001b[0m     value \u001b[38;5;241m=\u001b[39m \u001b[38;5;124m'\u001b[39m\u001b[38;5;124m[name=\u001b[39m\u001b[38;5;124m\"\u001b[39m\u001b[38;5;132;01m%s\u001b[39;00m\u001b[38;5;124m\"\u001b[39m\u001b[38;5;124m]\u001b[39m\u001b[38;5;124m'\u001b[39m \u001b[38;5;241m%\u001b[39m value\n\u001b[0;32m   1282\u001b[0m \u001b[38;5;66;03m# Return empty list if driver returns null\u001b[39;00m\n\u001b[0;32m   1283\u001b[0m \u001b[38;5;66;03m# See https://github.com/SeleniumHQ/selenium/issues/4555\u001b[39;00m\n\u001b[1;32m-> 1284\u001b[0m \u001b[38;5;28;01mreturn\u001b[39;00m \u001b[38;5;28;43mself\u001b[39;49m\u001b[38;5;241;43m.\u001b[39;49m\u001b[43mexecute\u001b[49m\u001b[43m(\u001b[49m\u001b[43mCommand\u001b[49m\u001b[38;5;241;43m.\u001b[39;49m\u001b[43mFIND_ELEMENTS\u001b[49m\u001b[43m,\u001b[49m\u001b[43m \u001b[49m\u001b[43m{\u001b[49m\n\u001b[0;32m   1285\u001b[0m \u001b[43m    \u001b[49m\u001b[38;5;124;43m'\u001b[39;49m\u001b[38;5;124;43musing\u001b[39;49m\u001b[38;5;124;43m'\u001b[39;49m\u001b[43m:\u001b[49m\u001b[43m \u001b[49m\u001b[43mby\u001b[49m\u001b[43m,\u001b[49m\n\u001b[0;32m   1286\u001b[0m \u001b[43m    \u001b[49m\u001b[38;5;124;43m'\u001b[39;49m\u001b[38;5;124;43mvalue\u001b[39;49m\u001b[38;5;124;43m'\u001b[39;49m\u001b[43m:\u001b[49m\u001b[43m \u001b[49m\u001b[43mvalue\u001b[49m\u001b[43m}\u001b[49m\u001b[43m)\u001b[49m[\u001b[38;5;124m'\u001b[39m\u001b[38;5;124mvalue\u001b[39m\u001b[38;5;124m'\u001b[39m] \u001b[38;5;129;01mor\u001b[39;00m []\n",
      "File \u001b[1;32mc:\\users\\itamar\\appdata\\local\\programs\\python\\python39\\lib\\site-packages\\selenium\\webdriver\\remote\\webdriver.py:430\u001b[0m, in \u001b[0;36mWebDriver.execute\u001b[1;34m(self, driver_command, params)\u001b[0m\n\u001b[0;32m    428\u001b[0m response \u001b[38;5;241m=\u001b[39m \u001b[38;5;28mself\u001b[39m\u001b[38;5;241m.\u001b[39mcommand_executor\u001b[38;5;241m.\u001b[39mexecute(driver_command, params)\n\u001b[0;32m    429\u001b[0m \u001b[38;5;28;01mif\u001b[39;00m response:\n\u001b[1;32m--> 430\u001b[0m     \u001b[38;5;28;43mself\u001b[39;49m\u001b[38;5;241;43m.\u001b[39;49m\u001b[43merror_handler\u001b[49m\u001b[38;5;241;43m.\u001b[39;49m\u001b[43mcheck_response\u001b[49m\u001b[43m(\u001b[49m\u001b[43mresponse\u001b[49m\u001b[43m)\u001b[49m\n\u001b[0;32m    431\u001b[0m     response[\u001b[38;5;124m'\u001b[39m\u001b[38;5;124mvalue\u001b[39m\u001b[38;5;124m'\u001b[39m] \u001b[38;5;241m=\u001b[39m \u001b[38;5;28mself\u001b[39m\u001b[38;5;241m.\u001b[39m_unwrap_value(\n\u001b[0;32m    432\u001b[0m         response\u001b[38;5;241m.\u001b[39mget(\u001b[38;5;124m'\u001b[39m\u001b[38;5;124mvalue\u001b[39m\u001b[38;5;124m'\u001b[39m, \u001b[38;5;28;01mNone\u001b[39;00m))\n\u001b[0;32m    433\u001b[0m     \u001b[38;5;28;01mreturn\u001b[39;00m response\n",
      "File \u001b[1;32mc:\\users\\itamar\\appdata\\local\\programs\\python\\python39\\lib\\site-packages\\selenium\\webdriver\\remote\\errorhandler.py:247\u001b[0m, in \u001b[0;36mErrorHandler.check_response\u001b[1;34m(self, response)\u001b[0m\n\u001b[0;32m    245\u001b[0m         alert_text \u001b[38;5;241m=\u001b[39m value[\u001b[38;5;124m'\u001b[39m\u001b[38;5;124malert\u001b[39m\u001b[38;5;124m'\u001b[39m]\u001b[38;5;241m.\u001b[39mget(\u001b[38;5;124m'\u001b[39m\u001b[38;5;124mtext\u001b[39m\u001b[38;5;124m'\u001b[39m)\n\u001b[0;32m    246\u001b[0m     \u001b[38;5;28;01mraise\u001b[39;00m exception_class(message, screen, stacktrace, alert_text)  \u001b[38;5;66;03m# type: ignore[call-arg]  # mypy is not smart enough here\u001b[39;00m\n\u001b[1;32m--> 247\u001b[0m \u001b[38;5;28;01mraise\u001b[39;00m exception_class(message, screen, stacktrace)\n",
      "\u001b[1;31mWebDriverException\u001b[0m: Message: chrome not reachable\n  (Session info: chrome=104.0.5112.102)\nStacktrace:\nBacktrace:\n\tOrdinal0 [0x010278B3+2193587]\n\tOrdinal0 [0x00FC0681+1771137]\n\tOrdinal0 [0x00ED4070+802928]\n\tOrdinal0 [0x00EC9AB2+760498]\n\tOrdinal0 [0x00EBCEAF+708271]\n\tOrdinal0 [0x00EC1142+725314]\n\tOrdinal0 [0x00EC55C9+742857]\n\tOrdinal0 [0x00ED5500+808192]\n\tOrdinal0 [0x00F2D2C2+1168066]\n\tOrdinal0 [0x00F1D5C6+1103302]\n\tOrdinal0 [0x00EF77E0+948192]\n\tOrdinal0 [0x00EF86E6+952038]\n\tGetHandleVerifier [0x012D0CB2+2738370]\n\tGetHandleVerifier [0x012C21B8+2678216]\n\tGetHandleVerifier [0x010B17AA+512954]\n\tGetHandleVerifier [0x010B0856+509030]\n\tOrdinal0 [0x00FC743B+1799227]\n\tOrdinal0 [0x00FCBB68+1817448]\n\tOrdinal0 [0x00FCBC55+1817685]\n\tOrdinal0 [0x00FD5230+1856048]\n\tBaseThreadInitThunk [0x7577FA29+25]\n\tRtlGetAppContainerNamedObjectPath [0x76EF7A9E+286]\n\tRtlGetAppContainerNamedObjectPath [0x76EF7A6E+238]\n"
     ]
    }
   ],
   "source": [
    "questions_codes = {}\n",
    "\n",
    "\n",
    "for q in qs:\n",
    "    driver.get(url)\n",
    "    \n",
    "    if q.text != '':\n",
    "        q.click()\n",
    "        time.sleep(0.4)\n",
    "        questions_codes[q.text] = driver.find_elements(By.CSS_SELECTOR, 'code')\n",
    "        time.sleep(0.5)\n",
    "        driver.quit()\n",
    "        time.sleep(0.5)"
   ]
  },
  {
   "cell_type": "code",
   "execution_count": 105,
   "id": "9ae2f308-b9a8-4f65-b7ab-678bf8d4e376",
   "metadata": {},
   "outputs": [],
   "source": [
    "qs[0].click()"
   ]
  },
  {
   "cell_type": "code",
   "execution_count": null,
   "id": "2d947fda-5fee-4e22-a60e-775ea05bab4e",
   "metadata": {},
   "outputs": [],
   "source": []
  }
 ],
 "metadata": {
  "kernelspec": {
   "display_name": "Python 3 (ipykernel)",
   "language": "python",
   "name": "python3"
  },
  "language_info": {
   "codemirror_mode": {
    "name": "ipython",
    "version": 3
   },
   "file_extension": ".py",
   "mimetype": "text/x-python",
   "name": "python",
   "nbconvert_exporter": "python",
   "pygments_lexer": "ipython3",
   "version": "3.9.0"
  }
 },
 "nbformat": 4,
 "nbformat_minor": 5
}
