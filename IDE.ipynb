{
 "cells": [
  {
   "cell_type": "code",
   "execution_count": 1,
   "id": "949e9721-c526-45cd-a9b8-b839328fe15d",
   "metadata": {},
   "outputs": [],
   "source": [
    "from bs4 import BeautifulSoup\n",
    "import requests\n",
    "from lxml import etree\n",
    "import pandas as pd\n",
    "import pandasql as pds\n",
    "import re\n",
    "import numpy as np\n",
    "import os\n",
    "import matplotlib\n",
    "import seaborn as sns\n",
    "import sklearn\n",
    "from sklearn.model_selection import train_test_split\n",
    "from sklearn.naive_bayes import GaussianNB\n",
    "from sklearn.neighbors import KNeighborsClassifier\n",
    "from sklearn.tree import DecisionTreeClassifier\n",
    "from sklearn.ensemble import RandomForestClassifier, AdaBoostClassifier\n",
    "from sklearn.svm import SVC\n",
    "from sklearn.neural_network import MLPClassifier\n",
    "from sklearn.linear_model import LogisticRegression\n",
    "from sklearn.linear_model import LinearRegression\n",
    "import time\n",
    "from selenium import webdriver\n",
    "from selenium.webdriver.common.keys import Keys\n",
    "path_chrome = \"D:/Programming/Python/chromedriver.exe\"\n",
    "from selenium.webdriver.common.by import By\n",
    "from selenium.webdriver.chrome.options import Options\n",
    "from selenium.common.exceptions import NoSuchElementException\n",
    "from selenium.common.exceptions import WebDriverException"
   ]
  },
  {
   "cell_type": "code",
   "execution_count": 139,
   "id": "cf6806c4-b697-464e-88a6-a09f003b2f7a",
   "metadata": {},
   "outputs": [],
   "source": [
    "# url = \"https://stackoverflow.com/questions/tagged/python\"\n",
    "# driver = webdriver.Chrome(path_chrome)\n",
    "# driver.get(url)"
   ]
  },
  {
   "cell_type": "code",
   "execution_count": 144,
   "id": "3272e4d2-0877-4463-afe7-9c26b03a3fb7",
   "metadata": {},
   "outputs": [],
   "source": [
    "# list of programming languages\n",
    "driver = webdriver.Chrome(path_chrome)\n",
    "driver.get(\"https://en.wikipedia.org/wiki/List_of_programming_languages\")\n",
    "languages = driver.find_elements(By.CSS_SELECTOR, 'div.div-col') # this makes a <list> of the <lists> of <programming languages> by <alphabet>\n",
    "languages"
   ]
  },
  {
   "cell_type": "code",
   "execution_count": 158,
   "id": "a4e1dab5-1cef-4a1d-a5d0-107dd8f818bc",
   "metadata": {},
   "outputs": [
    {
     "data": {
      "text/plain": [
       "\"A.NET (A#/A sharp)\\nA-0 System\\nA+ (A plus)\\nA++\\nABAP\\nABC\\nABC ALGOL\\nACC\\nAccent (Rational Synergy)\\nAce DASL (Distributed Application Specification Language)\\nAction!\\nActionScript\\nActor\\nAda\\nAdenine (Haystack)\\nAdvPL\\nAgda\\nAgilent VEE (Keysight VEE)\\nAgora\\nAIMMS\\nAldor\\nAlef\\nALF\\nALGOL 58\\nALGOL 60\\nALGOL 68\\nALGOL W\\nAlice (Alice ML)\\nAlma-0\\nAmbientTalk\\nAmiga E\\nAMOS (AMOS BASIC)\\nAMPL\\nAnalitik\\nAngelScript\\nApache Pig latin\\nApex (Salesforce.com, Inc)\\nAPL\\nApp Inventor for Android's visual block language (MIT App Inventor)\\nAppleScript\\nAPT\\nArc\\nARexx\\nArgus\\nAssembly language (ASM)\\nAutoHotkey\\nAutoIt\\nAutoLISP / Visual LISP\\nAverest\\nAWK\\nAxum\""
      ]
     },
     "execution_count": 158,
     "metadata": {},
     "output_type": "execute_result"
    }
   ],
   "source": [
    "langs = {}  # dictionary to store every language for each letter. this will be used to search them later in the tags."
   ]
  },
  {
   "cell_type": "code",
   "execution_count": 160,
   "id": "7bd27948-8f4c-4050-9f38-2d88a9ea7acf",
   "metadata": {},
   "outputs": [],
   "source": [
    "for l in languages:\n",
    "    langs_letter = l.text.split(\"\\n\")  # splitting since the elements were lang1\\nlang2\\nlang3... in one large string rather than a string for every language. \n",
    "    langs[langs_letter[0][0]] = langs_letter  # dictionary[letter] = list_of_languages_in_that_letter\n",
    "# langs = dictionary of languages per letter. ez clap. "
   ]
  },
  {
   "cell_type": "code",
   "execution_count": 200,
   "id": "61f981ce-d126-49ec-9cea-45ce68179c69",
   "metadata": {},
   "outputs": [],
   "source": [
    "#k:[values]                                        stage 1: creating the .csv file with all the languages.\n",
    "#pd.DataFrame(d.items())\n",
    "langsdf = pd.DataFrame(columns = langs.keys())\n",
    "langsdf\n",
    "for ch in langsdf.columns:\n",
    "    langsdf[ch] = pd.Series(langs[ch])  # list of languages in ch. need to somehow put it in the column in the df. \n",
    "langsdf.fillna(\"null\", inplace = True)\n",
    "langsdf.to_csv(\"D:/Programming/GitHub/Projects/data/pLanguages.csv\")"
   ]
  },
  {
   "cell_type": "code",
   "execution_count": 192,
   "id": "a68c67d6-d6cf-4610-8e1f-ec7072ff2507",
   "metadata": {},
   "outputs": [],
   "source": [
    "#codes = driver.find_elements(By.CSS_SELECTOR, 'code')\n",
    "driver.quit()"
   ]
  },
  {
   "cell_type": "code",
   "execution_count": 201,
   "id": "51d5006e-d0d8-4e89-aad3-25b238eac718",
   "metadata": {},
   "outputs": [],
   "source": [
    "# getting the questions from searching the language in stack overflow. this is used to later search those same questions, click on them, and retrieve the code lines. \n",
    "pLanguages = pd.read_csv(\"D:/Programming/GitHub/Projects/data/pLanguages.csv\")"
   ]
  },
  {
   "cell_type": "code",
   "execution_count": 2,
   "id": "776b76b5-ce10-4d4a-803e-36e1b0a57e09",
   "metadata": {},
   "outputs": [
    {
     "ename": "NameError",
     "evalue": "name 'pLanguages' is not defined",
     "output_type": "error",
     "traceback": [
      "\u001b[1;31m---------------------------------------------------------------------------\u001b[0m",
      "\u001b[1;31mNameError\u001b[0m                                 Traceback (most recent call last)",
      "Input \u001b[1;32mIn [2]\u001b[0m, in \u001b[0;36m<cell line: 1>\u001b[1;34m()\u001b[0m\n\u001b[1;32m----> 1\u001b[0m \u001b[43mpLanguages\u001b[49m\n",
      "\u001b[1;31mNameError\u001b[0m: name 'pLanguages' is not defined"
     ]
    }
   ],
   "source": [
    "pLanguages"
   ]
  },
  {
   "cell_type": "code",
   "execution_count": 32,
   "id": "f426b9a8-205f-4679-af64-504538c6fb9f",
   "metadata": {},
   "outputs": [],
   "source": [
    "# retrieves a dictionary of {P# Q# : code lines}. the dictionary: questions_and_codes.\n",
    "\n",
    "\n",
    "\n",
    "\n",
    "lang = 'python'  # the label of the training data\n",
    "path_chrome = \"D:/Programming/Python/chromedriver.exe\"\n",
    "url = \"https://stackoverflow.com/questions/tagged/{}?tab=frequent&page={}&pagesize=15\".format(lang, 1)\n",
    "url2 = \"https://stackoverflow.com/questions/tagged/{}?tab=votes&page={}&pagesize=15\".format(lang, 1)\n",
    "driver = webdriver.Chrome(path_chrome)\n",
    "questions_and_codes_new = {}  # empty dictionary. formatted as such: {\"question\":\"list of shit ton of code lines\"} this is the training data. \n",
    "pages_to_search = 25\n",
    "driver.get(url)  # initialize driver onto the url. in this case, page 1 of the search pages."
   ]
  },
  {
   "cell_type": "code",
   "execution_count": 32,
   "id": "a86f8b52-b90c-4126-ba1f-7e1635271209",
   "metadata": {},
   "outputs": [],
   "source": [
    "for page in range(pages_to_search):\n",
    "    Qindex = len(driver.find_elements(By.CSS_SELECTOR, 'h3.s-post-summary--content-title'))  # amount of questions in the page. \n",
    "    time.sleep(0.5)\n",
    "    for i in range(Qindex):\n",
    "        time.sleep(0.5)\n",
    "\n",
    "        Qs = driver.find_elements(By.CSS_SELECTOR, 'h3.s-post-summary--content-title')  # list of questions in the page.\n",
    "        thelink = Qs[i].find_element(By.CSS_SELECTOR, 'a.s-link').get_attribute(\"href\")  # their hrefs\n",
    "        driver.execute_script(\"window.open('');\")  # opens a new tab\n",
    "        driver.switch_to.window(driver.window_handles[1])  # switches to new tab\n",
    "        driver.get(thelink)  # loading the question's href on it\n",
    "        codes = driver.find_elements(By.CSS_SELECTOR, 'code')  # collecting code lines.\n",
    "        # if \"p{}-Q{}\".format(page, i) in questions_and_codes.keys():\n",
    "        #     continue\n",
    "        try:\n",
    "            questions_and_codes[\"p{}-Q{}\".format(page, i)] = [code.text for code in codes]\n",
    "        except:\n",
    "            questions_and_codes[\"p{}-Q{}\".format(page, i)] = \"\"\n",
    "        driver.close()\n",
    "        driver.switch_to.window(driver.window_handles[0])  # switch to first tab. otherwise Qs still looks for the already-closed tabs and it errors\n",
    "    time.sleep(0.5)\n",
    "    driver.find_element(By.LINK_TEXT, 'Next').click()\n",
    "questions_and_codes  # the dictionary of all questions and their code lines.    "
   ]
  },
  {
   "cell_type": "code",
   "execution_count": 32,
   "id": "260df4bb-1b24-4690-8d7f-f48396e3cd8c",
   "metadata": {},
   "outputs": [
    {
     "name": "stderr",
     "output_type": "stream",
     "text": [
      "C:\\Users\\Itamar\\AppData\\Local\\Temp\\ipykernel_9436\\2631748831.py:10: DeprecationWarning: executable_path has been deprecated, please pass in a Service object\n",
      "  driver = webdriver.Chrome(path_chrome)\n"
     ]
    }
   ],
   "source": []
  },
  {
   "cell_type": "code",
   "execution_count": 33,
   "id": "3b9de05f-5e1a-4f3d-bc4d-a4993412c242",
   "metadata": {},
   "outputs": [],
   "source": []
  },
  {
   "cell_type": "code",
   "execution_count": 42,
   "id": "0bafd6ef-9622-48eb-a50b-3be83bd560fe",
   "metadata": {},
   "outputs": [],
   "source": [
    "# seek to improve this. i hate looking at triple \"for\". maybe it's okay but it doesnt look right so try and replace this.\n",
    "\n",
    "\n",
    "codelines = []\n",
    "for key in questions_and_codes.keys():\n",
    "    codelist = questions_and_codes[key]\n",
    "    for line in codelist:\n",
    "        for inst in line.split(\"\\n\"):\n",
    "            codelines.append(inst)\n",
    "            \n",
    "pd.DataFrame(pd.Series(codelines), columns = {'python'}).to_csv(\"D:/Programming/GitHub/projects/data/pythonCode.csv\")\n",
    "\n"
   ]
  },
  {
   "cell_type": "code",
   "execution_count": 43,
   "id": "ce43c7c9-f40f-4338-a9be-5f3cc64039e6",
   "metadata": {},
   "outputs": [
    {
     "data": {
      "text/html": [
       "<div>\n",
       "<style scoped>\n",
       "    .dataframe tbody tr th:only-of-type {\n",
       "        vertical-align: middle;\n",
       "    }\n",
       "\n",
       "    .dataframe tbody tr th {\n",
       "        vertical-align: top;\n",
       "    }\n",
       "\n",
       "    .dataframe thead th {\n",
       "        text-align: right;\n",
       "    }\n",
       "</style>\n",
       "<table border=\"1\" class=\"dataframe\">\n",
       "  <thead>\n",
       "    <tr style=\"text-align: right;\">\n",
       "      <th></th>\n",
       "      <th>python</th>\n",
       "    </tr>\n",
       "  </thead>\n",
       "  <tbody>\n",
       "    <tr>\n",
       "      <th>0</th>\n",
       "      <td>pandas</td>\n",
       "    </tr>\n",
       "    <tr>\n",
       "      <th>1</th>\n",
       "      <td>pandas</td>\n",
       "    </tr>\n",
       "    <tr>\n",
       "      <th>2</th>\n",
       "      <td>import pandas as pd</td>\n",
       "    </tr>\n",
       "    <tr>\n",
       "      <th>3</th>\n",
       "      <td>df = pd.DataFrame({'user': ['Bob', 'Jane', 'Al...</td>\n",
       "    </tr>\n",
       "    <tr>\n",
       "      <th>4</th>\n",
       "      <td>'income': [40000, 50000, 42...</td>\n",
       "    </tr>\n",
       "    <tr>\n",
       "      <th>...</th>\n",
       "      <td>...</td>\n",
       "    </tr>\n",
       "    <tr>\n",
       "      <th>109764</th>\n",
       "      <td>with open(file_name, \"rU\") as read_file:</td>\n",
       "    </tr>\n",
       "    <tr>\n",
       "      <th>109765</th>\n",
       "      <td>for i, row in enumerate(read_file, 1):</td>\n",
       "    </tr>\n",
       "    <tr>\n",
       "      <th>109766</th>\n",
       "      <td>#do something</td>\n",
       "    </tr>\n",
       "    <tr>\n",
       "      <th>109767</th>\n",
       "      <td>#i in line of that line</td>\n",
       "    </tr>\n",
       "    <tr>\n",
       "      <th>109768</th>\n",
       "      <td>#row containts all data of that line</td>\n",
       "    </tr>\n",
       "  </tbody>\n",
       "</table>\n",
       "<p>109769 rows × 1 columns</p>\n",
       "</div>"
      ],
      "text/plain": [
       "                                                   python\n",
       "0                                                  pandas\n",
       "1                                                  pandas\n",
       "2                                     import pandas as pd\n",
       "3       df = pd.DataFrame({'user': ['Bob', 'Jane', 'Al...\n",
       "4                          'income': [40000, 50000, 42...\n",
       "...                                                   ...\n",
       "109764           with open(file_name, \"rU\") as read_file:\n",
       "109765             for i, row in enumerate(read_file, 1):\n",
       "109766                                      #do something\n",
       "109767                            #i in line of that line\n",
       "109768               #row containts all data of that line\n",
       "\n",
       "[109769 rows x 1 columns]"
      ]
     },
     "execution_count": 43,
     "metadata": {},
     "output_type": "execute_result"
    }
   ],
   "source": [
    "lang_df = pd.DataFrame(pd.Series(codelines), columns = {'python'})\n",
    "lang_df"
   ]
  },
  {
   "cell_type": "code",
   "execution_count": 13,
   "id": "9ee497f4-1935-47bf-8d90-5efab5a249d5",
   "metadata": {},
   "outputs": [
    {
     "data": {
      "text/html": [
       "<div>\n",
       "<style scoped>\n",
       "    .dataframe tbody tr th:only-of-type {\n",
       "        vertical-align: middle;\n",
       "    }\n",
       "\n",
       "    .dataframe tbody tr th {\n",
       "        vertical-align: top;\n",
       "    }\n",
       "\n",
       "    .dataframe thead th {\n",
       "        text-align: right;\n",
       "    }\n",
       "</style>\n",
       "<table border=\"1\" class=\"dataframe\">\n",
       "  <thead>\n",
       "    <tr style=\"text-align: right;\">\n",
       "      <th></th>\n",
       "      <th>line</th>\n",
       "      <th>language</th>\n",
       "    </tr>\n",
       "  </thead>\n",
       "  <tbody>\n",
       "    <tr>\n",
       "      <th>0</th>\n",
       "      <td>pandas</td>\n",
       "      <td>python</td>\n",
       "    </tr>\n",
       "    <tr>\n",
       "      <th>1</th>\n",
       "      <td>pandas</td>\n",
       "      <td>python</td>\n",
       "    </tr>\n",
       "    <tr>\n",
       "      <th>2</th>\n",
       "      <td>import pandas as pd</td>\n",
       "      <td>python</td>\n",
       "    </tr>\n",
       "    <tr>\n",
       "      <th>3</th>\n",
       "      <td>df = pd.DataFrame({'user': ['Bob', 'Jane', 'Al...</td>\n",
       "      <td>python</td>\n",
       "    </tr>\n",
       "    <tr>\n",
       "      <th>4</th>\n",
       "      <td>'income': [40000, 50000, 42...</td>\n",
       "      <td>python</td>\n",
       "    </tr>\n",
       "    <tr>\n",
       "      <th>...</th>\n",
       "      <td>...</td>\n",
       "      <td>...</td>\n",
       "    </tr>\n",
       "    <tr>\n",
       "      <th>109764</th>\n",
       "      <td>with open(file_name, \"rU\") as read_file:</td>\n",
       "      <td>python</td>\n",
       "    </tr>\n",
       "    <tr>\n",
       "      <th>109765</th>\n",
       "      <td>for i, row in enumerate(read_file, 1):</td>\n",
       "      <td>python</td>\n",
       "    </tr>\n",
       "    <tr>\n",
       "      <th>109766</th>\n",
       "      <td>#do something</td>\n",
       "      <td>python</td>\n",
       "    </tr>\n",
       "    <tr>\n",
       "      <th>109767</th>\n",
       "      <td>#i in line of that line</td>\n",
       "      <td>python</td>\n",
       "    </tr>\n",
       "    <tr>\n",
       "      <th>109768</th>\n",
       "      <td>#row containts all data of that line</td>\n",
       "      <td>python</td>\n",
       "    </tr>\n",
       "  </tbody>\n",
       "</table>\n",
       "<p>109769 rows × 2 columns</p>\n",
       "</div>"
      ],
      "text/plain": [
       "                                                     line language\n",
       "0                                                  pandas   python\n",
       "1                                                  pandas   python\n",
       "2                                     import pandas as pd   python\n",
       "3       df = pd.DataFrame({'user': ['Bob', 'Jane', 'Al...   python\n",
       "4                          'income': [40000, 50000, 42...   python\n",
       "...                                                   ...      ...\n",
       "109764           with open(file_name, \"rU\") as read_file:   python\n",
       "109765             for i, row in enumerate(read_file, 1):   python\n",
       "109766                                      #do something   python\n",
       "109767                            #i in line of that line   python\n",
       "109768               #row containts all data of that line   python\n",
       "\n",
       "[109769 rows x 2 columns]"
      ]
     },
     "execution_count": 13,
     "metadata": {},
     "output_type": "execute_result"
    }
   ],
   "source": [
    "pydf = pd.read_csv(\"d:/programming/github/projects/data/PythonCode.csv\")\n",
    "jdf = pd.read_csv(\"d:/programming/github/projects/data/JavaCode.csv\")\n",
    "cdf = pd.read_csv(\"d:/programming/github/projects/data/CCode.csv\")\n",
    "unnamed = pydf.columns[0]\n",
    "for df in [pydf, jdf, cdf]:\n",
    "    del df[unnamed]\n",
    "    df['language'] = df.columns[0]\n",
    "    df.rename(columns = {df.columns[0]:'line'}, inplace = True)\n",
    "pydf"
   ]
  },
  {
   "cell_type": "code",
   "execution_count": 16,
   "id": "359c1acc-570d-4776-8186-f22026d64dd2",
   "metadata": {},
   "outputs": [
    {
     "data": {
      "text/html": [
       "<div>\n",
       "<style scoped>\n",
       "    .dataframe tbody tr th:only-of-type {\n",
       "        vertical-align: middle;\n",
       "    }\n",
       "\n",
       "    .dataframe tbody tr th {\n",
       "        vertical-align: top;\n",
       "    }\n",
       "\n",
       "    .dataframe thead th {\n",
       "        text-align: right;\n",
       "    }\n",
       "</style>\n",
       "<table border=\"1\" class=\"dataframe\">\n",
       "  <thead>\n",
       "    <tr style=\"text-align: right;\">\n",
       "      <th></th>\n",
       "      <th>line</th>\n",
       "      <th>language</th>\n",
       "    </tr>\n",
       "  </thead>\n",
       "  <tbody>\n",
       "    <tr>\n",
       "      <th>0</th>\n",
       "      <td>pandas</td>\n",
       "      <td>python</td>\n",
       "    </tr>\n",
       "    <tr>\n",
       "      <th>1</th>\n",
       "      <td>pandas</td>\n",
       "      <td>python</td>\n",
       "    </tr>\n",
       "    <tr>\n",
       "      <th>2</th>\n",
       "      <td>import pandas as pd</td>\n",
       "      <td>python</td>\n",
       "    </tr>\n",
       "    <tr>\n",
       "      <th>3</th>\n",
       "      <td>df = pd.DataFrame({'user': ['Bob', 'Jane', 'Al...</td>\n",
       "      <td>python</td>\n",
       "    </tr>\n",
       "    <tr>\n",
       "      <th>4</th>\n",
       "      <td>'income': [40000, 50000, 42...</td>\n",
       "      <td>python</td>\n",
       "    </tr>\n",
       "    <tr>\n",
       "      <th>...</th>\n",
       "      <td>...</td>\n",
       "      <td>...</td>\n",
       "    </tr>\n",
       "    <tr>\n",
       "      <th>252226</th>\n",
       "      <td>2</td>\n",
       "      <td>C</td>\n",
       "    </tr>\n",
       "    <tr>\n",
       "      <th>252227</th>\n",
       "      <td>0</td>\n",
       "      <td>C</td>\n",
       "    </tr>\n",
       "    <tr>\n",
       "      <th>252228</th>\n",
       "      <td>1</td>\n",
       "      <td>C</td>\n",
       "    </tr>\n",
       "    <tr>\n",
       "      <th>252229</th>\n",
       "      <td>0</td>\n",
       "      <td>C</td>\n",
       "    </tr>\n",
       "    <tr>\n",
       "      <th>252230</th>\n",
       "      <td>int arr[10]{};</td>\n",
       "      <td>C</td>\n",
       "    </tr>\n",
       "  </tbody>\n",
       "</table>\n",
       "<p>252231 rows × 2 columns</p>\n",
       "</div>"
      ],
      "text/plain": [
       "                                                     line language\n",
       "0                                                  pandas   python\n",
       "1                                                  pandas   python\n",
       "2                                     import pandas as pd   python\n",
       "3       df = pd.DataFrame({'user': ['Bob', 'Jane', 'Al...   python\n",
       "4                          'income': [40000, 50000, 42...   python\n",
       "...                                                   ...      ...\n",
       "252226                                                  2        C\n",
       "252227                                                 0         C\n",
       "252228                                                  1        C\n",
       "252229                                                  0        C\n",
       "252230                                     int arr[10]{};        C\n",
       "\n",
       "[252231 rows x 2 columns]"
      ]
     },
     "execution_count": 16,
     "metadata": {},
     "output_type": "execute_result"
    }
   ],
   "source": [
    "df = pd.concat([pydf, jdf, cdf]).reset_index()\n",
    "del df['index']\n",
    "df"
   ]
  },
  {
   "cell_type": "code",
   "execution_count": 1,
   "id": "3b645426-a6e8-489c-9c3a-0fe491bded7e",
   "metadata": {},
   "outputs": [],
   "source": [
    "# the data prediction:\n",
    "# step 1: separate the words.\n",
    "# step 2: take out tokens that don't add new insight to the label.\n",
    "\n",
    "\n",
    "\n",
    "\n",
    "# how to do: \n",
    "# make a histogram with the words? \n",
    "# then take out keys that would not be relevant, or that would have the same amount of entries in every language?\n",
    "# then maybe find a way to match regex patterns between the way loops are built in each language and differentiate by that? \n",
    "# something along the lines of [\\w+]\\ \\=\\ \\{(.*\\:.*)+\\} to match dictionary pattern (char = {(anything:anything)any amount of times larger than 1}) etc..."
   ]
  },
  {
   "cell_type": "code",
   "execution_count": 247,
   "id": "48d14bef-7716-4e48-8d72-930e6415a782",
   "metadata": {},
   "outputs": [],
   "source": []
  },
  {
   "cell_type": "code",
   "execution_count": 250,
   "id": "2529b868-a98d-46ce-9d5d-490928303486",
   "metadata": {},
   "outputs": [],
   "source": []
  },
  {
   "cell_type": "code",
   "execution_count": 252,
   "id": "1c0580c8-b4c0-40da-896e-a55f8371bb95",
   "metadata": {},
   "outputs": [],
   "source": []
  },
  {
   "cell_type": "code",
   "execution_count": null,
   "id": "e75e1bf1-7972-4d4b-869d-2eb51032d781",
   "metadata": {},
   "outputs": [],
   "source": []
  },
  {
   "cell_type": "code",
   "execution_count": null,
   "id": "d739e963-203b-465c-b3d7-89c147d64abc",
   "metadata": {},
   "outputs": [],
   "source": []
  },
  {
   "cell_type": "code",
   "execution_count": null,
   "id": "762255e1-d1b3-416e-bf38-20da84500fbd",
   "metadata": {},
   "outputs": [],
   "source": []
  },
  {
   "cell_type": "code",
   "execution_count": null,
   "id": "821aae02-9a4f-4e0c-a3c9-73575f6f114f",
   "metadata": {},
   "outputs": [],
   "source": []
  },
  {
   "cell_type": "code",
   "execution_count": 142,
   "id": "9ae2f308-b9a8-4f65-b7ab-678bf8d4e376",
   "metadata": {},
   "outputs": [],
   "source": [
    "# consider just runnning over all questions in stack overflow and based on their tags put them in a dictionary for their language. that could save some time with doing this process for every language, \n",
    "# but it could also be more costly as it would have to classify based on a shit ton of tags. sometimes \"error-handling, shutil, jinja2\", all useless bullshit that aren't really languages. \n",
    "# plan your database. "
   ]
  },
  {
   "cell_type": "code",
   "execution_count": null,
   "id": "5f8faad5-2ea1-486b-9c94-a1076ee77d11",
   "metadata": {},
   "outputs": [],
   "source": [
    "# how about one that clicks each question and collects the code?\n",
    "# search quetsions by language from stackoverflow."
   ]
  },
  {
   "cell_type": "code",
   "execution_count": 9,
   "id": "89c2e860-51cc-4b3f-b23e-c5ac957c13c6",
   "metadata": {},
   "outputs": [
    {
     "name": "stderr",
     "output_type": "stream",
     "text": [
      "C:\\Users\\Itamar\\AppData\\Local\\Temp\\ipykernel_9436\\2410237184.py:4: DeprecationWarning: executable_path has been deprecated, please pass in a Service object\n",
      "  driver = webdriver.Chrome(path_chrome)\n"
     ]
    },
    {
     "ename": "StaleElementReferenceException",
     "evalue": "Message: stale element reference: element is not attached to the page document\n  (Session info: chrome=104.0.5112.102)\nStacktrace:\nBacktrace:\n\tOrdinal0 [0x010278B3+2193587]\n\tOrdinal0 [0x00FC0681+1771137]\n\tOrdinal0 [0x00ED41A8+803240]\n\tOrdinal0 [0x00ED6BB4+814004]\n\tOrdinal0 [0x00ED6A72+813682]\n\tOrdinal0 [0x00ED6D00+814336]\n\tOrdinal0 [0x00F03F19+999193]\n\tOrdinal0 [0x00EF9146+954694]\n\tOrdinal0 [0x00F1D7AC+1103788]\n\tOrdinal0 [0x00EF8C04+953348]\n\tOrdinal0 [0x00F1D9C4+1104324]\n\tOrdinal0 [0x00F2DAE2+1170146]\n\tOrdinal0 [0x00F1D5C6+1103302]\n\tOrdinal0 [0x00EF77E0+948192]\n\tOrdinal0 [0x00EF86E6+952038]\n\tGetHandleVerifier [0x012D0CB2+2738370]\n\tGetHandleVerifier [0x012C21B8+2678216]\n\tGetHandleVerifier [0x010B17AA+512954]\n\tGetHandleVerifier [0x010B0856+509030]\n\tOrdinal0 [0x00FC743B+1799227]\n\tOrdinal0 [0x00FCBB68+1817448]\n\tOrdinal0 [0x00FCBC55+1817685]\n\tOrdinal0 [0x00FD5230+1856048]\n\tBaseThreadInitThunk [0x7577FA29+25]\n\tRtlGetAppContainerNamedObjectPath [0x76EF7A9E+286]\n\tRtlGetAppContainerNamedObjectPath [0x76EF7A6E+238]\n",
     "output_type": "error",
     "traceback": [
      "\u001b[1;31m---------------------------------------------------------------------------\u001b[0m",
      "\u001b[1;31mStaleElementReferenceException\u001b[0m            Traceback (most recent call last)",
      "Input \u001b[1;32mIn [9]\u001b[0m, in \u001b[0;36m<cell line: 8>\u001b[1;34m()\u001b[0m\n\u001b[0;32m     10\u001b[0m \u001b[38;5;28;01mfor\u001b[39;00m Q \u001b[38;5;129;01min\u001b[39;00m driver\u001b[38;5;241m.\u001b[39mfind_elements(By\u001b[38;5;241m.\u001b[39mCSS_SELECTOR, \u001b[38;5;124m'\u001b[39m\u001b[38;5;124mh3.s-post-summary--content-title\u001b[39m\u001b[38;5;124m'\u001b[39m):\n\u001b[0;32m     11\u001b[0m     time\u001b[38;5;241m.\u001b[39msleep(\u001b[38;5;241m0.5\u001b[39m)\n\u001b[1;32m---> 12\u001b[0m     \u001b[43mQ\u001b[49m\u001b[38;5;241;43m.\u001b[39;49m\u001b[43mclick\u001b[49m\u001b[43m(\u001b[49m\u001b[43m)\u001b[49m\n\u001b[0;32m     13\u001b[0m     time\u001b[38;5;241m.\u001b[39msleep(\u001b[38;5;241m0.5\u001b[39m)\n\u001b[0;32m     14\u001b[0m     \u001b[38;5;28;01mtry\u001b[39;00m:\n",
      "File \u001b[1;32mc:\\users\\itamar\\appdata\\local\\programs\\python\\python39\\lib\\site-packages\\selenium\\webdriver\\remote\\webelement.py:89\u001b[0m, in \u001b[0;36mWebElement.click\u001b[1;34m(self)\u001b[0m\n\u001b[0;32m     87\u001b[0m \u001b[38;5;28;01mdef\u001b[39;00m \u001b[38;5;21mclick\u001b[39m(\u001b[38;5;28mself\u001b[39m) \u001b[38;5;241m-\u001b[39m\u001b[38;5;241m>\u001b[39m \u001b[38;5;28;01mNone\u001b[39;00m:\n\u001b[0;32m     88\u001b[0m     \u001b[38;5;124;03m\"\"\"Clicks the element.\"\"\"\u001b[39;00m\n\u001b[1;32m---> 89\u001b[0m     \u001b[38;5;28;43mself\u001b[39;49m\u001b[38;5;241;43m.\u001b[39;49m\u001b[43m_execute\u001b[49m\u001b[43m(\u001b[49m\u001b[43mCommand\u001b[49m\u001b[38;5;241;43m.\u001b[39;49m\u001b[43mCLICK_ELEMENT\u001b[49m\u001b[43m)\u001b[49m\n",
      "File \u001b[1;32mc:\\users\\itamar\\appdata\\local\\programs\\python\\python39\\lib\\site-packages\\selenium\\webdriver\\remote\\webelement.py:773\u001b[0m, in \u001b[0;36mWebElement._execute\u001b[1;34m(self, command, params)\u001b[0m\n\u001b[0;32m    771\u001b[0m     params \u001b[38;5;241m=\u001b[39m {}\n\u001b[0;32m    772\u001b[0m params[\u001b[38;5;124m'\u001b[39m\u001b[38;5;124mid\u001b[39m\u001b[38;5;124m'\u001b[39m] \u001b[38;5;241m=\u001b[39m \u001b[38;5;28mself\u001b[39m\u001b[38;5;241m.\u001b[39m_id\n\u001b[1;32m--> 773\u001b[0m \u001b[38;5;28;01mreturn\u001b[39;00m \u001b[38;5;28;43mself\u001b[39;49m\u001b[38;5;241;43m.\u001b[39;49m\u001b[43m_parent\u001b[49m\u001b[38;5;241;43m.\u001b[39;49m\u001b[43mexecute\u001b[49m\u001b[43m(\u001b[49m\u001b[43mcommand\u001b[49m\u001b[43m,\u001b[49m\u001b[43m \u001b[49m\u001b[43mparams\u001b[49m\u001b[43m)\u001b[49m\n",
      "File \u001b[1;32mc:\\users\\itamar\\appdata\\local\\programs\\python\\python39\\lib\\site-packages\\selenium\\webdriver\\remote\\webdriver.py:430\u001b[0m, in \u001b[0;36mWebDriver.execute\u001b[1;34m(self, driver_command, params)\u001b[0m\n\u001b[0;32m    428\u001b[0m response \u001b[38;5;241m=\u001b[39m \u001b[38;5;28mself\u001b[39m\u001b[38;5;241m.\u001b[39mcommand_executor\u001b[38;5;241m.\u001b[39mexecute(driver_command, params)\n\u001b[0;32m    429\u001b[0m \u001b[38;5;28;01mif\u001b[39;00m response:\n\u001b[1;32m--> 430\u001b[0m     \u001b[38;5;28;43mself\u001b[39;49m\u001b[38;5;241;43m.\u001b[39;49m\u001b[43merror_handler\u001b[49m\u001b[38;5;241;43m.\u001b[39;49m\u001b[43mcheck_response\u001b[49m\u001b[43m(\u001b[49m\u001b[43mresponse\u001b[49m\u001b[43m)\u001b[49m\n\u001b[0;32m    431\u001b[0m     response[\u001b[38;5;124m'\u001b[39m\u001b[38;5;124mvalue\u001b[39m\u001b[38;5;124m'\u001b[39m] \u001b[38;5;241m=\u001b[39m \u001b[38;5;28mself\u001b[39m\u001b[38;5;241m.\u001b[39m_unwrap_value(\n\u001b[0;32m    432\u001b[0m         response\u001b[38;5;241m.\u001b[39mget(\u001b[38;5;124m'\u001b[39m\u001b[38;5;124mvalue\u001b[39m\u001b[38;5;124m'\u001b[39m, \u001b[38;5;28;01mNone\u001b[39;00m))\n\u001b[0;32m    433\u001b[0m     \u001b[38;5;28;01mreturn\u001b[39;00m response\n",
      "File \u001b[1;32mc:\\users\\itamar\\appdata\\local\\programs\\python\\python39\\lib\\site-packages\\selenium\\webdriver\\remote\\errorhandler.py:247\u001b[0m, in \u001b[0;36mErrorHandler.check_response\u001b[1;34m(self, response)\u001b[0m\n\u001b[0;32m    245\u001b[0m         alert_text \u001b[38;5;241m=\u001b[39m value[\u001b[38;5;124m'\u001b[39m\u001b[38;5;124malert\u001b[39m\u001b[38;5;124m'\u001b[39m]\u001b[38;5;241m.\u001b[39mget(\u001b[38;5;124m'\u001b[39m\u001b[38;5;124mtext\u001b[39m\u001b[38;5;124m'\u001b[39m)\n\u001b[0;32m    246\u001b[0m     \u001b[38;5;28;01mraise\u001b[39;00m exception_class(message, screen, stacktrace, alert_text)  \u001b[38;5;66;03m# type: ignore[call-arg]  # mypy is not smart enough here\u001b[39;00m\n\u001b[1;32m--> 247\u001b[0m \u001b[38;5;28;01mraise\u001b[39;00m exception_class(message, screen, stacktrace)\n",
      "\u001b[1;31mStaleElementReferenceException\u001b[0m: Message: stale element reference: element is not attached to the page document\n  (Session info: chrome=104.0.5112.102)\nStacktrace:\nBacktrace:\n\tOrdinal0 [0x010278B3+2193587]\n\tOrdinal0 [0x00FC0681+1771137]\n\tOrdinal0 [0x00ED41A8+803240]\n\tOrdinal0 [0x00ED6BB4+814004]\n\tOrdinal0 [0x00ED6A72+813682]\n\tOrdinal0 [0x00ED6D00+814336]\n\tOrdinal0 [0x00F03F19+999193]\n\tOrdinal0 [0x00EF9146+954694]\n\tOrdinal0 [0x00F1D7AC+1103788]\n\tOrdinal0 [0x00EF8C04+953348]\n\tOrdinal0 [0x00F1D9C4+1104324]\n\tOrdinal0 [0x00F2DAE2+1170146]\n\tOrdinal0 [0x00F1D5C6+1103302]\n\tOrdinal0 [0x00EF77E0+948192]\n\tOrdinal0 [0x00EF86E6+952038]\n\tGetHandleVerifier [0x012D0CB2+2738370]\n\tGetHandleVerifier [0x012C21B8+2678216]\n\tGetHandleVerifier [0x010B17AA+512954]\n\tGetHandleVerifier [0x010B0856+509030]\n\tOrdinal0 [0x00FC743B+1799227]\n\tOrdinal0 [0x00FCBB68+1817448]\n\tOrdinal0 [0x00FCBC55+1817685]\n\tOrdinal0 [0x00FD5230+1856048]\n\tBaseThreadInitThunk [0x7577FA29+25]\n\tRtlGetAppContainerNamedObjectPath [0x76EF7A9E+286]\n\tRtlGetAppContainerNamedObjectPath [0x76EF7A6E+238]\n"
     ]
    }
   ],
   "source": [
    "lang = 'python'  # the label of the training data\n",
    "path_chrome = \"D:/Programming/Python/chromedriver.exe\"\n",
    "url = \"https://stackoverflow.com/questions/tagged/{}?tab=newest&page={}&pagesize=15\".format(lang, 1)\n",
    "driver = webdriver.Chrome(path_chrome)\n",
    "driver.get(url)  # initialize driver onto the url. in this case, page 1 of the search pages.\n",
    "questions_and_codes = {}  # empty dictionary. formatted as such: {\"question\":\"list of shit ton of code lines\"} this is the training data. \n",
    "pages_to_search = 1\n",
    "for i in range(pages_to_search):  # the range indicates the amount of pages to look through. \n",
    "    page_qs = driver.find_elements(By.CSS_SELECTOR, 'h3.s-post-summary--content-title')  # the questions in current page. \n",
    "    for Q in driver.find_elements(By.CSS_SELECTOR, 'h3.s-post-summary--content-title'):\n",
    "        time.sleep(0.5)\n",
    "        Q.click()\n",
    "        time.sleep(0.5)\n",
    "        try:\n",
    "            questions_and_codes[Q.text] = driver.find_elements(By.CSS_SELECTOR, 'code')\n",
    "        except:\n",
    "            driver.execute_script(\"window.history.go(-1)\")  # previous page  \n",
    "            time.sleep(0.6)\n",
    "            continue\n",
    "        time.sleep(0.5)\n",
    "        driver.execute_script(\"window.history.go(-1)\")  # previous page\n",
    "        time.sleep(0.5)\n",
    "    driver.find_element(By.LINK_TEXT, 'Next').click()\n",
    "        "
   ]
  },
  {
   "cell_type": "code",
   "execution_count": 8,
   "id": "7fd6e2f2-58dc-43b9-b83d-faa7b885be7d",
   "metadata": {},
   "outputs": [
    {
     "data": {
      "text/plain": [
       "{}"
      ]
     },
     "execution_count": 8,
     "metadata": {},
     "output_type": "execute_result"
    }
   ],
   "source": [
    "questions_and_codes"
   ]
  },
  {
   "cell_type": "code",
   "execution_count": 255,
   "id": "29256f1d-069e-4e92-b133-996e48fea8ac",
   "metadata": {},
   "outputs": [],
   "source": [
    "driver.find_element(By.XPATH, '//*[@id=\"question-summary-73601146\"]/div[2]/h3/a').click()"
   ]
  },
  {
   "cell_type": "code",
   "execution_count": 258,
   "id": "d168ea27-0a9b-4f4e-8fb5-b55982418b78",
   "metadata": {},
   "outputs": [],
   "source": [
    "for i in driver.find_elements(By.CSS_SELECTOR, 'h3.s-post-summary--content-title'):\n",
    "    print(i.text)\n",
    "    "
   ]
  },
  {
   "cell_type": "code",
   "execution_count": 261,
   "id": "068085b0-8a42-4b40-8873-df48bf4cf8b0",
   "metadata": {},
   "outputs": [],
   "source": [
    "driver.execute_script(\"window.history.go(-1)\")  # previous page"
   ]
  },
  {
   "cell_type": "code",
   "execution_count": null,
   "id": "48323fcc-54c9-41e3-9499-b3810303ed7d",
   "metadata": {},
   "outputs": [],
   "source": [
    "questions = []  # want to go through all the pages to get the questions. then i want to click them one by one in the next kernel and get codes. \n",
    "\n",
    "page_length = int(driver.find_element(By.XPATH, '//*[@id=\"mainbar\"]/div[7]/a[5]').text)\n",
    "for i in range(10):\n",
    "    try:\n",
    "        qs = driver.find_elements(By.CSS_SELECTOR, 'a.s-link')\n",
    "    except:\n",
    "        break\n",
    "        print(\"no data sir\")\n",
    "    for q in qs:\n",
    "        if q.text != '' and q.text not in questions:\n",
    "            questions.append(q.text)\n",
    "    time.sleep(0.6)\n",
    "    driver.find_element(By.LINK_TEXT, 'Next').click()\n",
    "    time.sleep(0.5)\n",
    "questions"
   ]
  }
 ],
 "metadata": {
  "kernelspec": {
   "display_name": "Python 3 (ipykernel)",
   "language": "python",
   "name": "python3"
  },
  "language_info": {
   "codemirror_mode": {
    "name": "ipython",
    "version": 3
   },
   "file_extension": ".py",
   "mimetype": "text/x-python",
   "name": "python",
   "nbconvert_exporter": "python",
   "pygments_lexer": "ipython3",
   "version": "3.9.0"
  }
 },
 "nbformat": 4,
 "nbformat_minor": 5
}
