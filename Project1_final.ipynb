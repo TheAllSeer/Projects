{
 "cells": [
  {
   "cell_type": "code",
   "execution_count": 1,
   "id": "18faa819-fafa-4f41-bc0e-9b0880c0166d",
   "metadata": {},
   "outputs": [
    {
     "data": {
      "text/html": [
       "<div>\n",
       "<style scoped>\n",
       "    .dataframe tbody tr th:only-of-type {\n",
       "        vertical-align: middle;\n",
       "    }\n",
       "\n",
       "    .dataframe tbody tr th {\n",
       "        vertical-align: top;\n",
       "    }\n",
       "\n",
       "    .dataframe thead th {\n",
       "        text-align: right;\n",
       "    }\n",
       "</style>\n",
       "<table border=\"1\" class=\"dataframe\">\n",
       "  <thead>\n",
       "    <tr style=\"text-align: right;\">\n",
       "      <th></th>\n",
       "      <th>c1</th>\n",
       "      <th>obj</th>\n",
       "    </tr>\n",
       "  </thead>\n",
       "  <tbody>\n",
       "    <tr>\n",
       "      <th>facebook</th>\n",
       "      <td>assdlkfhasdlkfha_$facebook1234567891</td>\n",
       "      <td>facebook1234567891</td>\n",
       "    </tr>\n",
       "    <tr>\n",
       "      <th>book</th>\n",
       "      <td>adsfmlnas_$book1234567891</td>\n",
       "      <td>book1234567891</td>\n",
       "    </tr>\n",
       "    <tr>\n",
       "      <th>car</th>\n",
       "      <td>fafddasfdscar1234567891</td>\n",
       "      <td>car1234567891</td>\n",
       "    </tr>\n",
       "  </tbody>\n",
       "</table>\n",
       "</div>"
      ],
      "text/plain": [
       "                                            c1                 obj\n",
       "facebook  assdlkfhasdlkfha_$facebook1234567891  facebook1234567891\n",
       "book                 adsfmlnas_$book1234567891      book1234567891\n",
       "car                    fafddasfdscar1234567891       car1234567891"
      ]
     },
     "execution_count": 1,
     "metadata": {},
     "output_type": "execute_result"
    }
   ],
   "source": [
    "import pandas as pd\n",
    "import re\n",
    "# project link: https://www.upwork.com/jobs/~01a010157a5b4de92f\n",
    "\n",
    "\n",
    "data = { 'first_column':  ['assdlkfhasdlkfha_$facebook1234567891', 'adsfmlnas_$book1234567891', 'fafddasfdscar1234567891']\n",
    "       }\n",
    "df = pd.DataFrame(data)\n",
    "df.rename(columns = {df.columns[0]:'c1'}, inplace = True)\n",
    "\n",
    "\n",
    "def identify(test):\n",
    "    if re.search('car[0-9]{10}', test) != None:\n",
    "        return \"car\", re.findall('car[0-9]{10}', test)[0]\n",
    "    else:\n",
    "        if re.search('facebook[0-9]{10}', test) != None:\n",
    "            return \"facebook\", re.findall('facebook[0-9]{10}', test)[0]\n",
    "        else:\n",
    "            if re.search('book[0-9]{10}', test) != None:\n",
    "                return \"book\", re.findall('book[0-9]{10}', test)[0]\n",
    "            else:\n",
    "                return \"none of those!\"\n",
    "\n",
    "            \n",
    "dictStore = {}\n",
    "\n",
    "for i in df.c1:\n",
    "    obj = identify(i)\n",
    "    key = obj[0]\n",
    "    string = obj[1]\n",
    "    dictStore[key] = string\n",
    "    \n",
    "\n",
    "df2 = pd.DataFrame.from_records([pd.Series(dictStore)]).transpose()\n",
    "df.set_index(df2.index, inplace = True)\n",
    "finaldf = df.join(df2)\n",
    "finaldf.rename(columns = {finaldf.columns[1]:'obj'}, inplace = True)\n",
    "finaldf"
   ]
  },
  {
   "cell_type": "code",
   "execution_count": null,
   "id": "6a2c5a2e-d341-46b6-be34-15299163d814",
   "metadata": {},
   "outputs": [],
   "source": []
  }
 ],
 "metadata": {
  "kernelspec": {
   "display_name": "Python 3 (ipykernel)",
   "language": "python",
   "name": "python3"
  },
  "language_info": {
   "codemirror_mode": {
    "name": "ipython",
    "version": 3
   },
   "file_extension": ".py",
   "mimetype": "text/x-python",
   "name": "python",
   "nbconvert_exporter": "python",
   "pygments_lexer": "ipython3",
   "version": "3.9.0"
  }
 },
 "nbformat": 4,
 "nbformat_minor": 5
}
