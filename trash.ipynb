{
 "cells": [
  {
   "cell_type": "raw",
   "id": "05d0e6b6-9539-48f7-a3cb-1b127d5679db",
   "metadata": {},
   "source": [
    "BeautifulSoup attempt\n",
    "\n",
    "\n",
    "url = \"https://stackoverflow.com/questions/tagged/python\"\n",
    "request = requests.get(url)\n",
    "soup = BeautifulSoup(request.text, \"html\")\n",
    "#google searchbar xpath = /html/body/div[3]/div[3]/form/div[1]/div[1]/div[1]/div/div[2]/input\n",
    "\n",
    "\n",
    "soup.find_all('code')  # list of <code> tags. this will be used to fill the database with lines of code from the queried language.\n",
    "dom = etree.HTML(str(soup))  # lxml function that lets you read xpath with bs4\n",
    "questions = dom.xpath('//*[@id=\"questions\"]')  # getting the xpath element from the lxml function.\n",
    "dom.xpath('//*[@id=\"question-summary-419163\"]') "
   ]
  },
  {
   "cell_type": "raw",
   "id": "aa1a2ee1-853b-44ec-a5ac-01d2bfdcda06",
   "metadata": {},
   "source": [
    "this code queries you for a line of code, then executes in python.\n",
    "\n",
    "# jupyter-lab --notebook-dir=D:/\n",
    "while True:\n",
    "    a = input(\"your code here>>\")\n",
    "    if a == \"stop\":\n",
    "        break\n",
    "    exec(a)\n"
   ]
  },
  {
   "cell_type": "raw",
   "id": "fea66196-1059-480f-8730-e8edeedeb9a5",
   "metadata": {},
   "source": [
    "some compiler for ide shit you know nothing about\n",
    "\n",
    "\n",
    "import subprocess\n",
    "from tkinter import *\n",
    "from tkinter.filedialog import asksaveasfilename, askopenfilename\n",
    "compiler = Tk()"
   ]
  },
  {
   "cell_type": "code",
   "execution_count": 9,
   "id": "76379b29-70eb-4f04-bccc-446bf6cad074",
   "metadata": {},
   "outputs": [
    {
     "data": {
      "text/plain": [
       "'i\\nwantn\\n'"
      ]
     },
     "execution_count": 9,
     "metadata": {},
     "output_type": "execute_result"
    }
   ],
   "source": [
    "\"i\\nwantn\\n\""
   ]
  },
  {
   "cell_type": "raw",
   "id": "854a6939-b632-4093-b8c5-7219656e91f1",
   "metadata": {},
   "source": [
    "# search quetsions by language from stackoverflow.\n",
    "lang = 'python'\n",
    "path_chrome = \"D:/Programming/Python/chromedriver.exe\"\n",
    "url = \"https://stackoverflow.com/questions/tagged/{}?tab=newest&page={}&pagesize=15\".format(lang, 1)\n",
    "driver = webdriver.Chrome(path_chrome)\n",
    "driver.get(url)\n",
    "questions = []  # want to go through all the pages to get the questions. then i want to click them one by one in the next kernel and get codes. \n",
    "\n",
    "page_length = int(driver.find_element(By.XPATH, '//*[@id=\"mainbar\"]/div[7]/a[5]').text)\n",
    "for i in range(10):\n",
    "    try:\n",
    "        qs = driver.find_elements(By.CSS_SELECTOR, 'a.s-link')\n",
    "    except:\n",
    "        break\n",
    "        print(\"no data sir\")\n",
    "    for q in qs:\n",
    "        if q.text != '' and q.text not in questions:\n",
    "            questions.append(q.text)\n",
    "    time.sleep(0.6)\n",
    "    driver.find_element(By.LINK_TEXT, 'Next').click()\n",
    "    time.sleep(0.5)\n",
    "questions\n"
   ]
  },
  {
   "cell_type": "raw",
   "id": "11195a5d-8272-4f0a-b1df-20fde5e20689",
   "metadata": {},
   "source": [
    "# stage 2: collecting questions from each language in the csv.\n",
    "for i in range(450):\n",
    "    try:\n",
    "        qs = driver.find_elements(By.CSS_SELECTOR, 'a.s-link')\n",
    "    except:\n",
    "        break\n",
    "        print(\"no data sir\")\n",
    "    for q in qs:\n",
    "        if q.text != '' and q.text not in questions:\n",
    "            questions.append(q.text)\n",
    "    time.sleep(0.6)\n",
    "    driver.find_element(By.LINK_TEXT, 'Next').click()\n",
    "    time.sleep(0.5)"
   ]
  },
  {
   "cell_type": "raw",
   "id": "926e823a-863f-4a94-a654-2063ccafcbdd",
   "metadata": {},
   "source": [
    "# searching for java while i go do stuff (java questions)\n",
    "lang = 'java'\n",
    "path_chrome = \"D:/Programming/Python/chromedriver.exe\"\n",
    "url = \"https://stackoverflow.com/questions/tagged/{}?tab=newest&page={}&pagesize=15\".format(lang, 1)\n",
    "driver = webdriver.Chrome(path_chrome)\n",
    "driver.get(url)\n",
    "questions_java = []  # want to go through all the pages to get the questions. then i want to click them one by one in the next kernel and get codes. \n",
    "\n",
    "page_length = int(driver.find_element(By.XPATH, '//*[@id=\"mainbar\"]/div[7]/a[5]').text)\n",
    "for i in range(500):\n",
    "    try:\n",
    "        qs = driver.find_elements(By.CSS_SELECTOR, 'a.s-link')\n",
    "    except:\n",
    "        break\n",
    "        print(\"no data sir\")\n",
    "    for q in qs:\n",
    "        if q.text != '' and q.text not in questions_java:\n",
    "            questions_java.append(q.text)\n",
    "    time.sleep(0.6)\n",
    "    driver.find_element(By.LINK_TEXT, 'Next').click()\n",
    "    time.sleep(0.5)\n",
    "# pd.DataFrame(pd.Series(questions), columns = {'python'}).to_csv(\"D:/Programming/GitHub/Projects/data/py_qs.csv\")  #converting the list of questions into a csv file."
   ]
  },
  {
   "cell_type": "raw",
   "id": "bef2f013-37ab-4bea-9b48-1e93eda5168f",
   "metadata": {},
   "source": [
    "# searching the questions and retrieving the code lines\n",
    "lang = 'python'\n",
    "path_chrome = \"D:/Programming/Python/chromedriver.exe\"\n",
    "url = \"https://stackoverflow.com/\"\n",
    "driver = webdriver.Chrome(path_chrome)\n",
    "driver.get(url)\n",
    "questions[0]\n",
    "search = driver.find_element(By.XPATH, '//*[@id=\"search\"]/div/input')\n",
    "search.send_keys(questions[0])\n",
    "driver.send_keys(Keys.RETURN)\n"
   ]
  },
  {
   "cell_type": "raw",
   "id": "0b4e95d0-2260-4b5b-896b-56d77cb5343f",
   "metadata": {},
   "source": [
    "questions_codes = {}\n",
    "# get list of all questions from page. after you retrieve the list, save it in a dictionary of pages and move to the next page.\n",
    "for q in qs:\n",
    "    driver.get(\"https://stackoverflow.com\")  # goes back to the default page for a search. may be unnecessary since you have a searchbar still within each question page. \n",
    "    \n",
    "    searchbar = driver.get_element(By.ID, 'search')\n",
    "    time.sleep(0.4)\n",
    "    questions_codes[q.text] = driver.find_elements(By.CSS_SELECTOR, 'code')  # making the dictionary formatted {questiontext:[code1, code2, code3]}\n",
    "    time.sleep(0.5)\n",
    "    driver.quit()\n",
    "    time.sleep(0.5)"
   ]
  },
  {
   "cell_type": "code",
   "execution_count": null,
   "id": "7e1c3d71-9806-41a2-9317-71deacc4f391",
   "metadata": {},
   "outputs": [],
   "source": []
  }
 ],
 "metadata": {
  "kernelspec": {
   "display_name": "Python 3 (ipykernel)",
   "language": "python",
   "name": "python3"
  },
  "language_info": {
   "codemirror_mode": {
    "name": "ipython",
    "version": 3
   },
   "file_extension": ".py",
   "mimetype": "text/x-python",
   "name": "python",
   "nbconvert_exporter": "python",
   "pygments_lexer": "ipython3",
   "version": "3.9.0"
  }
 },
 "nbformat": 4,
 "nbformat_minor": 5
}
