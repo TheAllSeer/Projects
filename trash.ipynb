{
 "cells": [
  {
   "cell_type": "raw",
   "id": "05d0e6b6-9539-48f7-a3cb-1b127d5679db",
   "metadata": {},
   "source": [
    "BeautifulSoup attempt\n",
    "\n",
    "\n",
    "url = \"https://stackoverflow.com/questions/tagged/python\"\n",
    "request = requests.get(url)\n",
    "soup = BeautifulSoup(request.text, \"html\")\n",
    "#google searchbar xpath = /html/body/div[3]/div[3]/form/div[1]/div[1]/div[1]/div/div[2]/input\n",
    "\n",
    "\n",
    "soup.find_all('code')  # list of <code> tags. this will be used to fill the database with lines of code from the queried language.\n",
    "dom = etree.HTML(str(soup))  # lxml function that lets you read xpath with bs4\n",
    "questions = dom.xpath('//*[@id=\"questions\"]')  # getting the xpath element from the lxml function.\n",
    "dom.xpath('//*[@id=\"question-summary-419163\"]') "
   ]
  },
  {
   "cell_type": "raw",
   "id": "aa1a2ee1-853b-44ec-a5ac-01d2bfdcda06",
   "metadata": {},
   "source": [
    "this code queries you for a line of code, then executes in python.\n",
    "\n",
    "# jupyter-lab --notebook-dir=D:/\n",
    "while True:\n",
    "    a = input(\"your code here>>\")\n",
    "    if a == \"stop\":\n",
    "        break\n",
    "    exec(a)\n"
   ]
  },
  {
   "cell_type": "raw",
   "id": "fea66196-1059-480f-8730-e8edeedeb9a5",
   "metadata": {},
   "source": [
    "some compiler for ide shit you know nothing about\n",
    "\n",
    "\n",
    "import subprocess\n",
    "from tkinter import *\n",
    "from tkinter.filedialog import asksaveasfilename, askopenfilename\n",
    "compiler = Tk()"
   ]
  },
  {
   "cell_type": "code",
   "execution_count": 9,
   "id": "76379b29-70eb-4f04-bccc-446bf6cad074",
   "metadata": {},
   "outputs": [
    {
     "data": {
      "text/plain": [
       "'i\\nwantn\\n'"
      ]
     },
     "execution_count": 9,
     "metadata": {},
     "output_type": "execute_result"
    }
   ],
   "source": [
    "\"i\\nwantn\\n\""
   ]
  },
  {
   "cell_type": "code",
   "execution_count": null,
   "id": "b1fd246f-b91c-4669-a731-128cf375377d",
   "metadata": {},
   "outputs": [],
   "source": []
  }
 ],
 "metadata": {
  "kernelspec": {
   "display_name": "Python 3 (ipykernel)",
   "language": "python",
   "name": "python3"
  },
  "language_info": {
   "codemirror_mode": {
    "name": "ipython",
    "version": 3
   },
   "file_extension": ".py",
   "mimetype": "text/x-python",
   "name": "python",
   "nbconvert_exporter": "python",
   "pygments_lexer": "ipython3",
   "version": "3.9.0"
  }
 },
 "nbformat": 4,
 "nbformat_minor": 5
}
